{
 "cells": [
  {
   "cell_type": "markdown",
   "metadata": {},
   "source": [
    "\n",
    "\n",
    "# Project: Investigate a Dataset with No Show Appointments\n",
    "\n",
    "## Table of Contents\n",
    "<ul>\n",
    "<li><a href=\"#intro\">Introduction</a></li>\n",
    "<li><a href=\"#wrangling\">Data Wrangling</a></li>\n",
    "<li><a href=\"#eda\">Exploratory Data Analysis</a></li>\n",
    "<li><a href=\"#conclusions\">Conclusions</a></li>\n",
    "</ul>"
   ]
  },
  {
   "cell_type": "markdown",
   "metadata": {},
   "source": [
    "<a id='intro'></a>\n",
    "## Introduction\n",
    "\n",
    "The No-Show Appointments dataset is a collection of medical appointment records in Brazil, where each entry represents an individual appointment. The dataset encompasses 110,527 appointments, each detailed with associated patient information and appointment characteristics. The primary focus of this dataset is to explore factors that might influence whether a patient misses their appointment.\n",
    "\n",
    "Each record in the dataset is uniquely identified by a PatientId and an AppointmentID. Additional demographic information is provided, such as Gender, along with temporal data including ScheduledDay (the day the patient set up their appointment) and AppointmentDay (the day of the actual medical appointment). The Age of the patient is also included, offering insights into how age demographics might affect appointment adherence.\n",
    "\n"
   ]
  },
  {
   "cell_type": "markdown",
   "metadata": {},
   "source": [
    "Certainly, analyzing the relationships between multiple variables, especially with a clear dependent variable like 'No-show', can provide valuable insights. Here are some research questions that examine the relationships between 'No-show' and multiple independent variables from the dataset:\n",
    "\n",
    "### Relationship Between Health Conditions and No-Show Rates:\n",
    "\n",
    "How does the presence of hypertension affect appointment attendance behavior in patients?\n",
    "\n",
    "### Socioeconomic Factors and No-Show Rates:\n",
    "\n",
    "How does the presence of a scholarship impact patient attendance for scheduled appointments?\n",
    "\n",
    "### Geographic and Temporal Factors:\n",
    "\n",
    "What are the top 20 neighborhoods with the highest rate of no-show appointments? \n",
    "\n",
    "With this information, we can pose several analytical questions, such as:\n",
    "\n",
    "Are certain neighbourhoods associated with higher no-show rates?\n",
    "Does the distance between the patient's home neighbourhood and the appointment's location affect their likelihood of attending?\n",
    "Are there any particular health conditions that are more prevalent in specific neighbourhoods?\n"
   ]
  },
  {
   "cell_type": "code",
   "execution_count": 7,
   "metadata": {},
   "outputs": [],
   "source": [
    "import pandas as pd\n",
    "import numpy as np\n",
    "import matplotlib.pyplot as plt\n",
    "import seaborn as sns\n",
    "import re\n",
    "%matplotlib inline\n"
   ]
  },
  {
   "cell_type": "markdown",
   "metadata": {},
   "source": [
    "<a id='wrangling'></a>\n",
    "## Data Wrangling\n",
    "\n",
    "\n",
    "### General Properties"
   ]
  },
  {
   "cell_type": "code",
   "execution_count": 8,
   "metadata": {},
   "outputs": [],
   "source": [
    "# Load your data and print out a few lines. Perform operations to inspect data\n",
    "#   types and look for instances of missing or possibly errant data.\n",
    "df=pd.read_csv(\"noshowappointments-kagglev2-may-2016.csv\")"
   ]
  },
  {
   "cell_type": "code",
   "execution_count": 66,
   "metadata": {},
   "outputs": [
    {
     "data": {
      "text/html": [
       "<div>\n",
       "<style scoped>\n",
       "    .dataframe tbody tr th:only-of-type {\n",
       "        vertical-align: middle;\n",
       "    }\n",
       "\n",
       "    .dataframe tbody tr th {\n",
       "        vertical-align: top;\n",
       "    }\n",
       "\n",
       "    .dataframe thead th {\n",
       "        text-align: right;\n",
       "    }\n",
       "</style>\n",
       "<table border=\"1\" class=\"dataframe\">\n",
       "  <thead>\n",
       "    <tr style=\"text-align: right;\">\n",
       "      <th></th>\n",
       "      <th>PatientId</th>\n",
       "      <th>AppointmentID</th>\n",
       "      <th>Gender</th>\n",
       "      <th>ScheduledDay</th>\n",
       "      <th>AppointmentDay</th>\n",
       "      <th>Age</th>\n",
       "      <th>Neighbourhood</th>\n",
       "      <th>Scholarship</th>\n",
       "      <th>Hipertension</th>\n",
       "      <th>Diabetes</th>\n",
       "      <th>Alcoholism</th>\n",
       "      <th>Handcap</th>\n",
       "      <th>SMS_received</th>\n",
       "      <th>No-show</th>\n",
       "    </tr>\n",
       "  </thead>\n",
       "  <tbody>\n",
       "    <tr>\n",
       "      <th>0</th>\n",
       "      <td>2.987250e+13</td>\n",
       "      <td>5642903</td>\n",
       "      <td>F</td>\n",
       "      <td>2016-04-29 18:38:08+00:00</td>\n",
       "      <td>2016-04-29 00:00:00+00:00</td>\n",
       "      <td>62</td>\n",
       "      <td>JARDIM DA PENHA</td>\n",
       "      <td>0</td>\n",
       "      <td>1</td>\n",
       "      <td>0</td>\n",
       "      <td>0</td>\n",
       "      <td>0</td>\n",
       "      <td>0</td>\n",
       "      <td>No</td>\n",
       "    </tr>\n",
       "    <tr>\n",
       "      <th>1</th>\n",
       "      <td>5.589978e+14</td>\n",
       "      <td>5642503</td>\n",
       "      <td>M</td>\n",
       "      <td>2016-04-29 16:08:27+00:00</td>\n",
       "      <td>2016-04-29 00:00:00+00:00</td>\n",
       "      <td>56</td>\n",
       "      <td>JARDIM DA PENHA</td>\n",
       "      <td>0</td>\n",
       "      <td>0</td>\n",
       "      <td>0</td>\n",
       "      <td>0</td>\n",
       "      <td>0</td>\n",
       "      <td>0</td>\n",
       "      <td>No</td>\n",
       "    </tr>\n",
       "    <tr>\n",
       "      <th>2</th>\n",
       "      <td>4.262962e+12</td>\n",
       "      <td>5642549</td>\n",
       "      <td>F</td>\n",
       "      <td>2016-04-29 16:19:04+00:00</td>\n",
       "      <td>2016-04-29 00:00:00+00:00</td>\n",
       "      <td>62</td>\n",
       "      <td>MATA DA PRAIA</td>\n",
       "      <td>0</td>\n",
       "      <td>0</td>\n",
       "      <td>0</td>\n",
       "      <td>0</td>\n",
       "      <td>0</td>\n",
       "      <td>0</td>\n",
       "      <td>No</td>\n",
       "    </tr>\n",
       "    <tr>\n",
       "      <th>3</th>\n",
       "      <td>8.679512e+11</td>\n",
       "      <td>5642828</td>\n",
       "      <td>F</td>\n",
       "      <td>2016-04-29 17:29:31+00:00</td>\n",
       "      <td>2016-04-29 00:00:00+00:00</td>\n",
       "      <td>8</td>\n",
       "      <td>PONTAL DE CAMBURI</td>\n",
       "      <td>0</td>\n",
       "      <td>0</td>\n",
       "      <td>0</td>\n",
       "      <td>0</td>\n",
       "      <td>0</td>\n",
       "      <td>0</td>\n",
       "      <td>No</td>\n",
       "    </tr>\n",
       "    <tr>\n",
       "      <th>4</th>\n",
       "      <td>8.841186e+12</td>\n",
       "      <td>5642494</td>\n",
       "      <td>F</td>\n",
       "      <td>2016-04-29 16:07:23+00:00</td>\n",
       "      <td>2016-04-29 00:00:00+00:00</td>\n",
       "      <td>56</td>\n",
       "      <td>JARDIM DA PENHA</td>\n",
       "      <td>0</td>\n",
       "      <td>1</td>\n",
       "      <td>1</td>\n",
       "      <td>0</td>\n",
       "      <td>0</td>\n",
       "      <td>0</td>\n",
       "      <td>No</td>\n",
       "    </tr>\n",
       "  </tbody>\n",
       "</table>\n",
       "</div>"
      ],
      "text/plain": [
       "      PatientId  AppointmentID Gender              ScheduledDay  \\\n",
       "0  2.987250e+13        5642903      F 2016-04-29 18:38:08+00:00   \n",
       "1  5.589978e+14        5642503      M 2016-04-29 16:08:27+00:00   \n",
       "2  4.262962e+12        5642549      F 2016-04-29 16:19:04+00:00   \n",
       "3  8.679512e+11        5642828      F 2016-04-29 17:29:31+00:00   \n",
       "4  8.841186e+12        5642494      F 2016-04-29 16:07:23+00:00   \n",
       "\n",
       "             AppointmentDay  Age      Neighbourhood  Scholarship  \\\n",
       "0 2016-04-29 00:00:00+00:00   62    JARDIM DA PENHA            0   \n",
       "1 2016-04-29 00:00:00+00:00   56    JARDIM DA PENHA            0   \n",
       "2 2016-04-29 00:00:00+00:00   62      MATA DA PRAIA            0   \n",
       "3 2016-04-29 00:00:00+00:00    8  PONTAL DE CAMBURI            0   \n",
       "4 2016-04-29 00:00:00+00:00   56    JARDIM DA PENHA            0   \n",
       "\n",
       "   Hipertension  Diabetes  Alcoholism  Handcap  SMS_received No-show  \n",
       "0             1         0           0        0             0      No  \n",
       "1             0         0           0        0             0      No  \n",
       "2             0         0           0        0             0      No  \n",
       "3             0         0           0        0             0      No  \n",
       "4             1         1           0        0             0      No  "
      ]
     },
     "execution_count": 66,
     "metadata": {},
     "output_type": "execute_result"
    }
   ],
   "source": [
    "# getting the first few line of data\n",
    "df.head()\n"
   ]
  },
  {
   "cell_type": "code",
   "execution_count": 67,
   "metadata": {},
   "outputs": [
    {
     "data": {
      "text/html": [
       "<div>\n",
       "<style scoped>\n",
       "    .dataframe tbody tr th:only-of-type {\n",
       "        vertical-align: middle;\n",
       "    }\n",
       "\n",
       "    .dataframe tbody tr th {\n",
       "        vertical-align: top;\n",
       "    }\n",
       "\n",
       "    .dataframe thead th {\n",
       "        text-align: right;\n",
       "    }\n",
       "</style>\n",
       "<table border=\"1\" class=\"dataframe\">\n",
       "  <thead>\n",
       "    <tr style=\"text-align: right;\">\n",
       "      <th></th>\n",
       "      <th>PatientId</th>\n",
       "      <th>AppointmentID</th>\n",
       "      <th>Gender</th>\n",
       "      <th>ScheduledDay</th>\n",
       "      <th>AppointmentDay</th>\n",
       "      <th>Age</th>\n",
       "      <th>Neighbourhood</th>\n",
       "      <th>Scholarship</th>\n",
       "      <th>Hipertension</th>\n",
       "      <th>Diabetes</th>\n",
       "      <th>Alcoholism</th>\n",
       "      <th>Handcap</th>\n",
       "      <th>SMS_received</th>\n",
       "      <th>No-show</th>\n",
       "    </tr>\n",
       "  </thead>\n",
       "  <tbody>\n",
       "    <tr>\n",
       "      <th>110522</th>\n",
       "      <td>2.572134e+12</td>\n",
       "      <td>5651768</td>\n",
       "      <td>F</td>\n",
       "      <td>2016-05-03 09:15:35+00:00</td>\n",
       "      <td>2016-06-07 00:00:00+00:00</td>\n",
       "      <td>56</td>\n",
       "      <td>MARIA ORTIZ</td>\n",
       "      <td>0</td>\n",
       "      <td>0</td>\n",
       "      <td>0</td>\n",
       "      <td>0</td>\n",
       "      <td>0</td>\n",
       "      <td>1</td>\n",
       "      <td>No</td>\n",
       "    </tr>\n",
       "    <tr>\n",
       "      <th>110523</th>\n",
       "      <td>3.596266e+12</td>\n",
       "      <td>5650093</td>\n",
       "      <td>F</td>\n",
       "      <td>2016-05-03 07:27:33+00:00</td>\n",
       "      <td>2016-06-07 00:00:00+00:00</td>\n",
       "      <td>51</td>\n",
       "      <td>MARIA ORTIZ</td>\n",
       "      <td>0</td>\n",
       "      <td>0</td>\n",
       "      <td>0</td>\n",
       "      <td>0</td>\n",
       "      <td>0</td>\n",
       "      <td>1</td>\n",
       "      <td>No</td>\n",
       "    </tr>\n",
       "    <tr>\n",
       "      <th>110524</th>\n",
       "      <td>1.557663e+13</td>\n",
       "      <td>5630692</td>\n",
       "      <td>F</td>\n",
       "      <td>2016-04-27 16:03:52+00:00</td>\n",
       "      <td>2016-06-07 00:00:00+00:00</td>\n",
       "      <td>21</td>\n",
       "      <td>MARIA ORTIZ</td>\n",
       "      <td>0</td>\n",
       "      <td>0</td>\n",
       "      <td>0</td>\n",
       "      <td>0</td>\n",
       "      <td>0</td>\n",
       "      <td>1</td>\n",
       "      <td>No</td>\n",
       "    </tr>\n",
       "    <tr>\n",
       "      <th>110525</th>\n",
       "      <td>9.213493e+13</td>\n",
       "      <td>5630323</td>\n",
       "      <td>F</td>\n",
       "      <td>2016-04-27 15:09:23+00:00</td>\n",
       "      <td>2016-06-07 00:00:00+00:00</td>\n",
       "      <td>38</td>\n",
       "      <td>MARIA ORTIZ</td>\n",
       "      <td>0</td>\n",
       "      <td>0</td>\n",
       "      <td>0</td>\n",
       "      <td>0</td>\n",
       "      <td>0</td>\n",
       "      <td>1</td>\n",
       "      <td>No</td>\n",
       "    </tr>\n",
       "    <tr>\n",
       "      <th>110526</th>\n",
       "      <td>3.775115e+14</td>\n",
       "      <td>5629448</td>\n",
       "      <td>F</td>\n",
       "      <td>2016-04-27 13:30:56+00:00</td>\n",
       "      <td>2016-06-07 00:00:00+00:00</td>\n",
       "      <td>54</td>\n",
       "      <td>MARIA ORTIZ</td>\n",
       "      <td>0</td>\n",
       "      <td>0</td>\n",
       "      <td>0</td>\n",
       "      <td>0</td>\n",
       "      <td>0</td>\n",
       "      <td>1</td>\n",
       "      <td>No</td>\n",
       "    </tr>\n",
       "  </tbody>\n",
       "</table>\n",
       "</div>"
      ],
      "text/plain": [
       "           PatientId  AppointmentID Gender              ScheduledDay  \\\n",
       "110522  2.572134e+12        5651768      F 2016-05-03 09:15:35+00:00   \n",
       "110523  3.596266e+12        5650093      F 2016-05-03 07:27:33+00:00   \n",
       "110524  1.557663e+13        5630692      F 2016-04-27 16:03:52+00:00   \n",
       "110525  9.213493e+13        5630323      F 2016-04-27 15:09:23+00:00   \n",
       "110526  3.775115e+14        5629448      F 2016-04-27 13:30:56+00:00   \n",
       "\n",
       "                  AppointmentDay  Age Neighbourhood  Scholarship  \\\n",
       "110522 2016-06-07 00:00:00+00:00   56   MARIA ORTIZ            0   \n",
       "110523 2016-06-07 00:00:00+00:00   51   MARIA ORTIZ            0   \n",
       "110524 2016-06-07 00:00:00+00:00   21   MARIA ORTIZ            0   \n",
       "110525 2016-06-07 00:00:00+00:00   38   MARIA ORTIZ            0   \n",
       "110526 2016-06-07 00:00:00+00:00   54   MARIA ORTIZ            0   \n",
       "\n",
       "        Hipertension  Diabetes  Alcoholism  Handcap  SMS_received No-show  \n",
       "110522             0         0           0        0             1      No  \n",
       "110523             0         0           0        0             1      No  \n",
       "110524             0         0           0        0             1      No  \n",
       "110525             0         0           0        0             1      No  \n",
       "110526             0         0           0        0             1      No  "
      ]
     },
     "execution_count": 67,
     "metadata": {},
     "output_type": "execute_result"
    }
   ],
   "source": [
    "# this will give us how the data looks towards the end.\n",
    "df.tail()"
   ]
  },
  {
   "cell_type": "code",
   "execution_count": 11,
   "metadata": {},
   "outputs": [
    {
     "data": {
      "text/plain": [
       "(110527, 14)"
      ]
     },
     "execution_count": 11,
     "metadata": {},
     "output_type": "execute_result"
    }
   ],
   "source": [
    "df.shape"
   ]
  },
  {
   "cell_type": "markdown",
   "metadata": {},
   "source": [
    "### Shape:\n",
    "By looking at the shape of the data, we found out there are 110527 rows and 14 columns."
   ]
  },
  {
   "cell_type": "code",
   "execution_count": 12,
   "metadata": {},
   "outputs": [
    {
     "name": "stdout",
     "output_type": "stream",
     "text": [
      "<class 'pandas.core.frame.DataFrame'>\n",
      "RangeIndex: 110527 entries, 0 to 110526\n",
      "Data columns (total 14 columns):\n",
      " #   Column          Non-Null Count   Dtype  \n",
      "---  ------          --------------   -----  \n",
      " 0   PatientId       110527 non-null  float64\n",
      " 1   AppointmentID   110527 non-null  int64  \n",
      " 2   Gender          110527 non-null  object \n",
      " 3   ScheduledDay    110527 non-null  object \n",
      " 4   AppointmentDay  110527 non-null  object \n",
      " 5   Age             110527 non-null  int64  \n",
      " 6   Neighbourhood   110527 non-null  object \n",
      " 7   Scholarship     110527 non-null  int64  \n",
      " 8   Hipertension    110527 non-null  int64  \n",
      " 9   Diabetes        110527 non-null  int64  \n",
      " 10  Alcoholism      110527 non-null  int64  \n",
      " 11  Handcap         110527 non-null  int64  \n",
      " 12  SMS_received    110527 non-null  int64  \n",
      " 13  No-show         110527 non-null  object \n",
      "dtypes: float64(1), int64(8), object(5)\n",
      "memory usage: 11.8+ MB\n"
     ]
    }
   ],
   "source": [
    "#getting the bird eye view of the data.\n",
    "df.info()"
   ]
  },
  {
   "cell_type": "code",
   "execution_count": 13,
   "metadata": {},
   "outputs": [
    {
     "data": {
      "text/plain": [
       "PatientId         float64\n",
       "AppointmentID       int64\n",
       "Gender             object\n",
       "ScheduledDay       object\n",
       "AppointmentDay     object\n",
       "Age                 int64\n",
       "Neighbourhood      object\n",
       "Scholarship         int64\n",
       "Hipertension        int64\n",
       "Diabetes            int64\n",
       "Alcoholism          int64\n",
       "Handcap             int64\n",
       "SMS_received        int64\n",
       "No-show            object\n",
       "dtype: object"
      ]
     },
     "execution_count": 13,
     "metadata": {},
     "output_type": "execute_result"
    }
   ],
   "source": [
    "#type of data in each of the column.\n",
    "df.dtypes"
   ]
  },
  {
   "cell_type": "code",
   "execution_count": 14,
   "metadata": {
    "scrolled": true
   },
   "outputs": [
    {
     "data": {
      "image/png": "[encoded data removed]",
      "text/plain": [
       "<Figure size 1000x800 with 9 Axes>"
      ]
     },
     "metadata": {},
     "output_type": "display_data"
    }
   ],
   "source": [
    "# by getting the histogram of the data, we are taking overall picture of the data, how the data looks like.\n",
    "df.hist(figsize=(10,8));"
   ]
  },
  {
   "cell_type": "markdown",
   "metadata": {},
   "source": [
    "Here's an interpretation of what each histogram may indicate about the data:\n",
    "\n",
    "### Age:\n",
    "This histogram likely shows the age distribution of the individuals in the dataset. It appears to be right-skewed, meaning there are more younger individuals than older ones. There's a concentration of data points in the lower age range, which then tapers off as age increases.\n",
    "\n",
    "### Scholarship: \n",
    "This binary variable appears to show that a smaller number of individuals are enrolled in the Bolsa Família scholarship program (indicated by the value 1) compared to those who are not (indicated by the value 0).\n",
    "\n",
    "### Hypertension: \n",
    "The histogram for hypertension suggests that a larger portion of the dataset does not have hypertension (value 0) compared to those who do (value 1).\n",
    "\n",
    "### Diabetes: \n",
    "Similar to hypertension, a larger number of individuals do not have diabetes (value 0) than those who do (value 1). The number of patients with diabetes is relatively small in comparison to non-diabetic patients.\n",
    "\n",
    "### Alcoholism: \n",
    "The histogram shows that alcoholism is not common among the individuals in the dataset, with the vast majority not reporting alcoholism (value 0).\n",
    "\n",
    "### Handicap: \n",
    "The histogram for the handicap variable indicates that the majority of individuals are not handicapped (value 0). There's a very small number of individuals with varying degrees of handicap (values 1, 2, 3, 4), with '1' being more common than higher values. The occurrence of higher handicap levels (3 and 4) is quite rare.\n",
    "\n",
    "### SMS_received: \n",
    "This histogram shows that a considerable number of individuals did receive an SMS (value 1) but it's still less than the number of individuals who did not receive an SMS (value 0)."
   ]
  },
  {
   "cell_type": "code",
   "execution_count": 15,
   "metadata": {},
   "outputs": [
    {
     "data": {
      "text/plain": [
       "str"
      ]
     },
     "execution_count": 15,
     "metadata": {},
     "output_type": "execute_result"
    }
   ],
   "source": [
    "# by getting the type of the data, we are trying find the exact type of the data in Gender column.\n",
    "type(df.Gender[0])"
   ]
  },
  {
   "cell_type": "code",
   "execution_count": 16,
   "metadata": {},
   "outputs": [
    {
     "data": {
      "text/plain": [
       "str"
      ]
     },
     "execution_count": 16,
     "metadata": {},
     "output_type": "execute_result"
    }
   ],
   "source": [
    "#the exact data type for ScheduledDay is string, we are looking to have this data in date time format.\n",
    "type(df.ScheduledDay[0])"
   ]
  },
  {
   "cell_type": "code",
   "execution_count": 17,
   "metadata": {},
   "outputs": [
    {
     "data": {
      "text/plain": [
       "str"
      ]
     },
     "execution_count": 17,
     "metadata": {},
     "output_type": "execute_result"
    }
   ],
   "source": [
    "# same thing finding the format of the data, so we can change the format in further exploration\n",
    "type(df.AppointmentDay[0])"
   ]
  },
  {
   "cell_type": "code",
   "execution_count": 18,
   "metadata": {},
   "outputs": [
    {
     "data": {
      "text/html": [
       "<div>\n",
       "<style scoped>\n",
       "    .dataframe tbody tr th:only-of-type {\n",
       "        vertical-align: middle;\n",
       "    }\n",
       "\n",
       "    .dataframe tbody tr th {\n",
       "        vertical-align: top;\n",
       "    }\n",
       "\n",
       "    .dataframe thead th {\n",
       "        text-align: right;\n",
       "    }\n",
       "</style>\n",
       "<table border=\"1\" class=\"dataframe\">\n",
       "  <thead>\n",
       "    <tr style=\"text-align: right;\">\n",
       "      <th></th>\n",
       "      <th>PatientId</th>\n",
       "      <th>AppointmentID</th>\n",
       "      <th>Age</th>\n",
       "      <th>Scholarship</th>\n",
       "      <th>Hipertension</th>\n",
       "      <th>Diabetes</th>\n",
       "      <th>Alcoholism</th>\n",
       "      <th>Handcap</th>\n",
       "      <th>SMS_received</th>\n",
       "    </tr>\n",
       "  </thead>\n",
       "  <tbody>\n",
       "    <tr>\n",
       "      <th>count</th>\n",
       "      <td>1.105270e+05</td>\n",
       "      <td>1.105270e+05</td>\n",
       "      <td>110527.000000</td>\n",
       "      <td>110527.000000</td>\n",
       "      <td>110527.000000</td>\n",
       "      <td>110527.000000</td>\n",
       "      <td>110527.000000</td>\n",
       "      <td>110527.000000</td>\n",
       "      <td>110527.000000</td>\n",
       "    </tr>\n",
       "    <tr>\n",
       "      <th>mean</th>\n",
       "      <td>1.474963e+14</td>\n",
       "      <td>5.675305e+06</td>\n",
       "      <td>37.088874</td>\n",
       "      <td>0.098266</td>\n",
       "      <td>0.197246</td>\n",
       "      <td>0.071865</td>\n",
       "      <td>0.030400</td>\n",
       "      <td>0.022248</td>\n",
       "      <td>0.321026</td>\n",
       "    </tr>\n",
       "    <tr>\n",
       "      <th>std</th>\n",
       "      <td>2.560949e+14</td>\n",
       "      <td>7.129575e+04</td>\n",
       "      <td>23.110205</td>\n",
       "      <td>0.297675</td>\n",
       "      <td>0.397921</td>\n",
       "      <td>0.258265</td>\n",
       "      <td>0.171686</td>\n",
       "      <td>0.161543</td>\n",
       "      <td>0.466873</td>\n",
       "    </tr>\n",
       "    <tr>\n",
       "      <th>min</th>\n",
       "      <td>3.921784e+04</td>\n",
       "      <td>5.030230e+06</td>\n",
       "      <td>-1.000000</td>\n",
       "      <td>0.000000</td>\n",
       "      <td>0.000000</td>\n",
       "      <td>0.000000</td>\n",
       "      <td>0.000000</td>\n",
       "      <td>0.000000</td>\n",
       "      <td>0.000000</td>\n",
       "    </tr>\n",
       "    <tr>\n",
       "      <th>25%</th>\n",
       "      <td>4.172614e+12</td>\n",
       "      <td>5.640286e+06</td>\n",
       "      <td>18.000000</td>\n",
       "      <td>0.000000</td>\n",
       "      <td>0.000000</td>\n",
       "      <td>0.000000</td>\n",
       "      <td>0.000000</td>\n",
       "      <td>0.000000</td>\n",
       "      <td>0.000000</td>\n",
       "    </tr>\n",
       "    <tr>\n",
       "      <th>50%</th>\n",
       "      <td>3.173184e+13</td>\n",
       "      <td>5.680573e+06</td>\n",
       "      <td>37.000000</td>\n",
       "      <td>0.000000</td>\n",
       "      <td>0.000000</td>\n",
       "      <td>0.000000</td>\n",
       "      <td>0.000000</td>\n",
       "      <td>0.000000</td>\n",
       "      <td>0.000000</td>\n",
       "    </tr>\n",
       "    <tr>\n",
       "      <th>75%</th>\n",
       "      <td>9.439172e+13</td>\n",
       "      <td>5.725524e+06</td>\n",
       "      <td>55.000000</td>\n",
       "      <td>0.000000</td>\n",
       "      <td>0.000000</td>\n",
       "      <td>0.000000</td>\n",
       "      <td>0.000000</td>\n",
       "      <td>0.000000</td>\n",
       "      <td>1.000000</td>\n",
       "    </tr>\n",
       "    <tr>\n",
       "      <th>max</th>\n",
       "      <td>9.999816e+14</td>\n",
       "      <td>5.790484e+06</td>\n",
       "      <td>115.000000</td>\n",
       "      <td>1.000000</td>\n",
       "      <td>1.000000</td>\n",
       "      <td>1.000000</td>\n",
       "      <td>1.000000</td>\n",
       "      <td>4.000000</td>\n",
       "      <td>1.000000</td>\n",
       "    </tr>\n",
       "  </tbody>\n",
       "</table>\n",
       "</div>"
      ],
      "text/plain": [
       "          PatientId  AppointmentID            Age    Scholarship  \\\n",
       "count  1.105270e+05   1.105270e+05  110527.000000  110527.000000   \n",
       "mean   1.474963e+14   5.675305e+06      37.088874       0.098266   \n",
       "std    2.560949e+14   7.129575e+04      23.110205       0.297675   \n",
       "min    3.921784e+04   5.030230e+06      -1.000000       0.000000   \n",
       "25%    4.172614e+12   5.640286e+06      18.000000       0.000000   \n",
       "50%    3.173184e+13   5.680573e+06      37.000000       0.000000   \n",
       "75%    9.439172e+13   5.725524e+06      55.000000       0.000000   \n",
       "max    9.999816e+14   5.790484e+06     115.000000       1.000000   \n",
       "\n",
       "        Hipertension       Diabetes     Alcoholism        Handcap  \\\n",
       "count  110527.000000  110527.000000  110527.000000  110527.000000   \n",
       "mean        0.197246       0.071865       0.030400       0.022248   \n",
       "std         0.397921       0.258265       0.171686       0.161543   \n",
       "min         0.000000       0.000000       0.000000       0.000000   \n",
       "25%         0.000000       0.000000       0.000000       0.000000   \n",
       "50%         0.000000       0.000000       0.000000       0.000000   \n",
       "75%         0.000000       0.000000       0.000000       0.000000   \n",
       "max         1.000000       1.000000       1.000000       4.000000   \n",
       "\n",
       "        SMS_received  \n",
       "count  110527.000000  \n",
       "mean        0.321026  \n",
       "std         0.466873  \n",
       "min         0.000000  \n",
       "25%         0.000000  \n",
       "50%         0.000000  \n",
       "75%         1.000000  \n",
       "max         1.000000  "
      ]
     },
     "execution_count": 18,
     "metadata": {},
     "output_type": "execute_result"
    }
   ],
   "source": [
    "df.describe()"
   ]
  },
  {
   "cell_type": "markdown",
   "metadata": {},
   "source": [
    "The descibe funciton gives us descriptive Statistics that summarize the data.\n",
    "#### PatientId and AppointmentID: \n",
    "These columns seem to be identifiers for patients and appointments.\n",
    "#### Age:\n",
    "The 'count' tells us there are 110,527 entries.\n",
    "The 'mean' age is approximately 37 years.\n",
    "The 'std' (standard deviation) is about 23, indicating there's a wide range of ages.\n",
    "#### Scholarship, Hypertension, Diabetes, Alcoholism, Handicap, SMS_received:\n",
    "These seem to be binary or categorical variables where a 1 represents a 'Yes' or the presence of a condition (or receipt of an SMS), and 0 represents a 'No' or absence.\n",
    "For binary data like this, 'mean' represents the proportion of '1' entries. For example, approximately 9.8% of the dataset has a scholarship, 19.7% have hypertension, 7.1% have diabetes, 3% have alcoholism, and 32% received SMS messages.\n",
    "The 'std' describes the variability of these binary values; higher values indicate more variability.\n",
    "#### Handicap:\n",
    " The 'max' value of 4 suggests this is not a binary variable like the others but rather categorical with potentially 5 levels (0 to 4)."
   ]
  },
  {
   "cell_type": "code",
   "execution_count": 19,
   "metadata": {},
   "outputs": [
    {
     "data": {
      "text/plain": [
       "array([0, 1])"
      ]
     },
     "execution_count": 19,
     "metadata": {},
     "output_type": "execute_result"
    }
   ],
   "source": [
    "# trying to find, what kind of data is in this column. by looking at the result it looks, 0 presents having the \n",
    "# scholarship and 1 persents not having the scholarship.\n",
    "df.Scholarship.unique()"
   ]
  },
  {
   "cell_type": "code",
   "execution_count": 20,
   "metadata": {},
   "outputs": [
    {
     "data": {
      "text/plain": [
       "array([1, 0])"
      ]
     },
     "execution_count": 20,
     "metadata": {},
     "output_type": "execute_result"
    }
   ],
   "source": [
    "# looking for kind of data in column, results indicate we have 1 as yes and 0 as no.\n",
    "df.Hipertension.unique()"
   ]
  },
  {
   "cell_type": "code",
   "execution_count": 21,
   "metadata": {},
   "outputs": [
    {
     "data": {
      "text/plain": [
       "array([0, 1])"
      ]
     },
     "execution_count": 21,
     "metadata": {},
     "output_type": "execute_result"
    }
   ],
   "source": [
    "#by looking at the variable type we can assume, there are people with Daibetes and people without it.\n",
    "df.Diabetes.unique()"
   ]
  },
  {
   "cell_type": "markdown",
   "metadata": {},
   "source": [
    "### Handcap column:\n",
    "The 'handcap' column in our dataset has five unique values (0, 1, 2, 3, 4), it likely represents a categorical variable indicating the level of disability or handicap where 0 would represent no handicap and 1, 2, 3, 4 represent increasing levels of severity. Here is a possible interpretation of these values:\n",
    "\n",
    "0: No handicap\n",
    "1: Mild handicap\n",
    "2: Moderate handicap\n",
    "3: Severe handicap\n",
    "4: Very severe handicap or multiple handicaps"
   ]
  },
  {
   "cell_type": "code",
   "execution_count": 22,
   "metadata": {},
   "outputs": [
    {
     "data": {
      "text/plain": [
       "array([0, 1, 2, 3, 4])"
      ]
     },
     "execution_count": 22,
     "metadata": {},
     "output_type": "execute_result"
    }
   ],
   "source": [
    "df.Handcap.unique()"
   ]
  },
  {
   "cell_type": "code",
   "execution_count": 23,
   "metadata": {},
   "outputs": [
    {
     "data": {
      "text/plain": [
       "81"
      ]
     },
     "execution_count": 23,
     "metadata": {},
     "output_type": "execute_result"
    }
   ],
   "source": [
    "df.Neighbourhood.nunique()"
   ]
  },
  {
   "cell_type": "markdown",
   "metadata": {},
   "source": [
    "### Neighbourhood\n",
    "A fundamental aspect of our dataset is the Neighbourhood variable, which represents the location of the hospital or clinic where each appointment takes place. Understanding the distribution of appointments across different neighbourhoods can provide insights into geographic trends in healthcare access or appointment adherence.\n",
    "\n",
    "The output, which is 81, indicates that there are eighty-one unique neighbourhoods where appointments in our dataset are located. This diversity in locations allows for a broad analysis of geographical factors and their potential influence on patient no-shows and healthcare outcomes.\n",
    "\n"
   ]
  },
  {
   "cell_type": "code",
   "execution_count": 24,
   "metadata": {
    "scrolled": true
   },
   "outputs": [
    {
     "data": {
      "text/html": [
       "<div>\n",
       "<style scoped>\n",
       "    .dataframe tbody tr th:only-of-type {\n",
       "        vertical-align: middle;\n",
       "    }\n",
       "\n",
       "    .dataframe tbody tr th {\n",
       "        vertical-align: top;\n",
       "    }\n",
       "\n",
       "    .dataframe thead th {\n",
       "        text-align: right;\n",
       "    }\n",
       "</style>\n",
       "<table border=\"1\" class=\"dataframe\">\n",
       "  <thead>\n",
       "    <tr style=\"text-align: right;\">\n",
       "      <th></th>\n",
       "      <th>PatientId</th>\n",
       "      <th>AppointmentID</th>\n",
       "      <th>Gender</th>\n",
       "      <th>ScheduledDay</th>\n",
       "      <th>AppointmentDay</th>\n",
       "      <th>Age</th>\n",
       "      <th>Neighbourhood</th>\n",
       "      <th>Scholarship</th>\n",
       "      <th>Hipertension</th>\n",
       "      <th>Diabetes</th>\n",
       "      <th>Alcoholism</th>\n",
       "      <th>Handcap</th>\n",
       "      <th>SMS_received</th>\n",
       "      <th>No-show</th>\n",
       "    </tr>\n",
       "  </thead>\n",
       "  <tbody>\n",
       "    <tr>\n",
       "      <th>63912</th>\n",
       "      <td>3.196321e+13</td>\n",
       "      <td>5700278</td>\n",
       "      <td>F</td>\n",
       "      <td>2016-05-16T09:17:44Z</td>\n",
       "      <td>2016-05-19T00:00:00Z</td>\n",
       "      <td>115</td>\n",
       "      <td>ANDORINHAS</td>\n",
       "      <td>0</td>\n",
       "      <td>0</td>\n",
       "      <td>0</td>\n",
       "      <td>0</td>\n",
       "      <td>1</td>\n",
       "      <td>0</td>\n",
       "      <td>Yes</td>\n",
       "    </tr>\n",
       "    <tr>\n",
       "      <th>63915</th>\n",
       "      <td>3.196321e+13</td>\n",
       "      <td>5700279</td>\n",
       "      <td>F</td>\n",
       "      <td>2016-05-16T09:17:44Z</td>\n",
       "      <td>2016-05-19T00:00:00Z</td>\n",
       "      <td>115</td>\n",
       "      <td>ANDORINHAS</td>\n",
       "      <td>0</td>\n",
       "      <td>0</td>\n",
       "      <td>0</td>\n",
       "      <td>0</td>\n",
       "      <td>1</td>\n",
       "      <td>0</td>\n",
       "      <td>Yes</td>\n",
       "    </tr>\n",
       "    <tr>\n",
       "      <th>68127</th>\n",
       "      <td>3.196321e+13</td>\n",
       "      <td>5562812</td>\n",
       "      <td>F</td>\n",
       "      <td>2016-04-08T14:29:17Z</td>\n",
       "      <td>2016-05-16T00:00:00Z</td>\n",
       "      <td>115</td>\n",
       "      <td>ANDORINHAS</td>\n",
       "      <td>0</td>\n",
       "      <td>0</td>\n",
       "      <td>0</td>\n",
       "      <td>0</td>\n",
       "      <td>1</td>\n",
       "      <td>0</td>\n",
       "      <td>Yes</td>\n",
       "    </tr>\n",
       "    <tr>\n",
       "      <th>76284</th>\n",
       "      <td>3.196321e+13</td>\n",
       "      <td>5744037</td>\n",
       "      <td>F</td>\n",
       "      <td>2016-05-30T09:44:51Z</td>\n",
       "      <td>2016-05-30T00:00:00Z</td>\n",
       "      <td>115</td>\n",
       "      <td>ANDORINHAS</td>\n",
       "      <td>0</td>\n",
       "      <td>0</td>\n",
       "      <td>0</td>\n",
       "      <td>0</td>\n",
       "      <td>1</td>\n",
       "      <td>0</td>\n",
       "      <td>No</td>\n",
       "    </tr>\n",
       "    <tr>\n",
       "      <th>97666</th>\n",
       "      <td>7.482346e+14</td>\n",
       "      <td>5717451</td>\n",
       "      <td>F</td>\n",
       "      <td>2016-05-19T07:57:56Z</td>\n",
       "      <td>2016-06-03T00:00:00Z</td>\n",
       "      <td>115</td>\n",
       "      <td>SÃO JOSÉ</td>\n",
       "      <td>0</td>\n",
       "      <td>1</td>\n",
       "      <td>0</td>\n",
       "      <td>0</td>\n",
       "      <td>0</td>\n",
       "      <td>1</td>\n",
       "      <td>No</td>\n",
       "    </tr>\n",
       "  </tbody>\n",
       "</table>\n",
       "</div>"
      ],
      "text/plain": [
       "          PatientId  AppointmentID Gender          ScheduledDay  \\\n",
       "63912  3.196321e+13        5700278      F  2016-05-16T09:17:44Z   \n",
       "63915  3.196321e+13        5700279      F  2016-05-16T09:17:44Z   \n",
       "68127  3.196321e+13        5562812      F  2016-04-08T14:29:17Z   \n",
       "76284  3.196321e+13        5744037      F  2016-05-30T09:44:51Z   \n",
       "97666  7.482346e+14        5717451      F  2016-05-19T07:57:56Z   \n",
       "\n",
       "             AppointmentDay  Age Neighbourhood  Scholarship  Hipertension  \\\n",
       "63912  2016-05-19T00:00:00Z  115    ANDORINHAS            0             0   \n",
       "63915  2016-05-19T00:00:00Z  115    ANDORINHAS            0             0   \n",
       "68127  2016-05-16T00:00:00Z  115    ANDORINHAS            0             0   \n",
       "76284  2016-05-30T00:00:00Z  115    ANDORINHAS            0             0   \n",
       "97666  2016-06-03T00:00:00Z  115      SÃO JOSÉ            0             1   \n",
       "\n",
       "       Diabetes  Alcoholism  Handcap  SMS_received No-show  \n",
       "63912         0           0        1             0     Yes  \n",
       "63915         0           0        1             0     Yes  \n",
       "68127         0           0        1             0     Yes  \n",
       "76284         0           0        1             0      No  \n",
       "97666         0           0        0             1      No  "
      ]
     },
     "execution_count": 24,
     "metadata": {},
     "output_type": "execute_result"
    }
   ],
   "source": [
    "# here we are verifying that the data point  with age equal to 115 are real data points.\n",
    "df[df.Age==115]"
   ]
  },
  {
   "cell_type": "code",
   "execution_count": 25,
   "metadata": {},
   "outputs": [
    {
     "data": {
      "text/plain": [
       "PatientId         2241\n",
       "AppointmentID     2241\n",
       "Gender            2241\n",
       "ScheduledDay      2241\n",
       "AppointmentDay    2241\n",
       "Age               2241\n",
       "Neighbourhood     2241\n",
       "Scholarship       2241\n",
       "Hipertension      2241\n",
       "Diabetes          2241\n",
       "Alcoholism        2241\n",
       "Handcap           2241\n",
       "SMS_received      2241\n",
       "No-show           2241\n",
       "dtype: int64"
      ]
     },
     "execution_count": 25,
     "metadata": {},
     "output_type": "execute_result"
    }
   ],
   "source": [
    "df.query('Handcap in [1,2,3,4]').count()"
   ]
  },
  {
   "cell_type": "markdown",
   "metadata": {},
   "source": [
    "In the analysis of the 'handcap' variable within our dataset, we observe a significant distribution trend indicating that the majority of patients do not have a recorded handicap, as denoted by the value '0'. This categorization underscores a predominant absence of handicaps among the patient population. Furthermore, upon aggregating the data points across the remaining categories (1, 2, 3, 4), which represent varying degrees of handicap severity, we identify a collective total of 2,241 instances. This quantitative insight highlights a comparatively smaller, yet significant, segment of the patient cohort that is characterized by one or more forms of handicaps. This distribution provides a foundational understanding of the patient demographic's physical condition landscape, informing subsequent healthcare accessibility and support analyses.\n"
   ]
  },
  {
   "cell_type": "markdown",
   "metadata": {},
   "source": [
    "\n",
    "\n",
    "### Data Cleaning "
   ]
  },
  {
   "cell_type": "code",
   "execution_count": 26,
   "metadata": {},
   "outputs": [],
   "source": [
    "# After discussing the structure of the data and any problems that need to be\n",
    "#   cleaned, perform those cleaning steps in the second part of this section.\n"
   ]
  },
  {
   "cell_type": "code",
   "execution_count": 27,
   "metadata": {},
   "outputs": [
    {
     "data": {
      "text/html": [
       "<div>\n",
       "<style scoped>\n",
       "    .dataframe tbody tr th:only-of-type {\n",
       "        vertical-align: middle;\n",
       "    }\n",
       "\n",
       "    .dataframe tbody tr th {\n",
       "        vertical-align: top;\n",
       "    }\n",
       "\n",
       "    .dataframe thead th {\n",
       "        text-align: right;\n",
       "    }\n",
       "</style>\n",
       "<table border=\"1\" class=\"dataframe\">\n",
       "  <thead>\n",
       "    <tr style=\"text-align: right;\">\n",
       "      <th></th>\n",
       "      <th>ScheduledDay</th>\n",
       "      <th>AppointmentDay</th>\n",
       "    </tr>\n",
       "  </thead>\n",
       "  <tbody>\n",
       "    <tr>\n",
       "      <th>0</th>\n",
       "      <td>2016-04-29T18:38:08Z</td>\n",
       "      <td>2016-04-29T00:00:00Z</td>\n",
       "    </tr>\n",
       "    <tr>\n",
       "      <th>1</th>\n",
       "      <td>2016-04-29T16:08:27Z</td>\n",
       "      <td>2016-04-29T00:00:00Z</td>\n",
       "    </tr>\n",
       "    <tr>\n",
       "      <th>2</th>\n",
       "      <td>2016-04-29T16:19:04Z</td>\n",
       "      <td>2016-04-29T00:00:00Z</td>\n",
       "    </tr>\n",
       "    <tr>\n",
       "      <th>3</th>\n",
       "      <td>2016-04-29T17:29:31Z</td>\n",
       "      <td>2016-04-29T00:00:00Z</td>\n",
       "    </tr>\n",
       "    <tr>\n",
       "      <th>4</th>\n",
       "      <td>2016-04-29T16:07:23Z</td>\n",
       "      <td>2016-04-29T00:00:00Z</td>\n",
       "    </tr>\n",
       "  </tbody>\n",
       "</table>\n",
       "</div>"
      ],
      "text/plain": [
       "           ScheduledDay        AppointmentDay\n",
       "0  2016-04-29T18:38:08Z  2016-04-29T00:00:00Z\n",
       "1  2016-04-29T16:08:27Z  2016-04-29T00:00:00Z\n",
       "2  2016-04-29T16:19:04Z  2016-04-29T00:00:00Z\n",
       "3  2016-04-29T17:29:31Z  2016-04-29T00:00:00Z\n",
       "4  2016-04-29T16:07:23Z  2016-04-29T00:00:00Z"
      ]
     },
     "execution_count": 27,
     "metadata": {},
     "output_type": "execute_result"
    }
   ],
   "source": [
    "#checking how does the data looks like in these columns.\n",
    "df[['ScheduledDay','AppointmentDay']].head()"
   ]
  },
  {
   "cell_type": "code",
   "execution_count": 28,
   "metadata": {},
   "outputs": [
    {
     "data": {
      "text/plain": [
       "(str, str)"
      ]
     },
     "execution_count": 28,
     "metadata": {},
     "output_type": "execute_result"
    }
   ],
   "source": [
    "#checking for the datatypes of two columns.\n",
    "type(df.ScheduledDay[0]),type(df.AppointmentDay[0])"
   ]
  },
  {
   "cell_type": "code",
   "execution_count": 29,
   "metadata": {},
   "outputs": [],
   "source": [
    "# creating a function to change the columns to datetime\n",
    "def change_to_datetime(col):\n",
    "    to_datetime=pd.to_datetime(col)\n",
    "    return to_datetime"
   ]
  },
  {
   "cell_type": "code",
   "execution_count": 30,
   "metadata": {},
   "outputs": [],
   "source": [
    "#converting the Scheduled day into date time.\n",
    "df['ScheduledDay']=df['ScheduledDay'].apply(change_to_datetime)"
   ]
  },
  {
   "cell_type": "code",
   "execution_count": 65,
   "metadata": {},
   "outputs": [],
   "source": [
    "#converting the Appointment Day into date time.\n",
    "df['AppointmentDay']=df['AppointmentDay'].apply(change_to_datetime)"
   ]
  },
  {
   "cell_type": "code",
   "execution_count": 33,
   "metadata": {},
   "outputs": [
    {
     "data": {
      "text/plain": [
       "0"
      ]
     },
     "execution_count": 33,
     "metadata": {},
     "output_type": "execute_result"
    }
   ],
   "source": [
    "# checking for any duplicates in the data, by the output we have come to know, there are no duplicates in data\n",
    "sum(df.duplicated())"
   ]
  },
  {
   "cell_type": "code",
   "execution_count": 34,
   "metadata": {},
   "outputs": [],
   "source": [
    "# the reason for drop this row is age is less than 0 as age cannot be less than zero.\n",
    "indices_to_drop=df[df['Age']<0].index\n",
    "df.drop(indices_to_drop,inplace=True)"
   ]
  },
  {
   "cell_type": "code",
   "execution_count": 35,
   "metadata": {},
   "outputs": [
    {
     "data": {
      "text/plain": [
       "PatientId         0\n",
       "AppointmentID     0\n",
       "Gender            0\n",
       "ScheduledDay      0\n",
       "AppointmentDay    0\n",
       "Age               0\n",
       "Neighbourhood     0\n",
       "Scholarship       0\n",
       "Hipertension      0\n",
       "Diabetes          0\n",
       "Alcoholism        0\n",
       "Handcap           0\n",
       "SMS_received      0\n",
       "No-show           0\n",
       "dtype: int64"
      ]
     },
     "execution_count": 35,
     "metadata": {},
     "output_type": "execute_result"
    }
   ],
   "source": [
    "#checking if there are any null values , there are no null values in the data set.\n",
    "df.isnull().sum()"
   ]
  },
  {
   "cell_type": "markdown",
   "metadata": {},
   "source": [
    "### droping SMS_received column:\n",
    "In the course of our data preprocessing and cleaning activities, we identified that the 'SMS_received' column within our dataset indicated that no patients had received an SMS notification regarding their appointment. Given this uniform absence of SMS receipt across the dataset, the 'SMS_received' column did not hold any discriminative information that could contribute to our analysis.\n",
    "\n",
    "Consequently, to streamline the dataset and focus our analysis on variables with informative variability, we decided to remove the 'SMS_received' column. This decision was executed using the appropriate Pandas DataFrame method to drop the column, ensuring our dataset only contains features that offer potential analytical value. The removal of this column also aids in data handling efficiency and clarity for subsequent exploratory data analysis and modeling phases."
   ]
  },
  {
   "cell_type": "code",
   "execution_count": null,
   "metadata": {},
   "outputs": [],
   "source": []
  },
  {
   "cell_type": "markdown",
   "metadata": {},
   "source": [
    "<a id='eda'></a>\n",
    "## Exploratory Data Analysis\n",
    "\n",
    "\n",
    "\n",
    "### Research Question 1:"
   ]
  },
  {
   "cell_type": "markdown",
   "metadata": {
    "collapsed": true
   },
   "source": [
    "\n",
    "## What are the top 20 neighborhoods with the highest rate of no-show appointments?"
   ]
  },
  {
   "cell_type": "code",
   "execution_count": 36,
   "metadata": {},
   "outputs": [
    {
     "data": {
      "text/html": [
       "<div>\n",
       "<style scoped>\n",
       "    .dataframe tbody tr th:only-of-type {\n",
       "        vertical-align: middle;\n",
       "    }\n",
       "\n",
       "    .dataframe tbody tr th {\n",
       "        vertical-align: top;\n",
       "    }\n",
       "\n",
       "    .dataframe thead th {\n",
       "        text-align: right;\n",
       "    }\n",
       "</style>\n",
       "<table border=\"1\" class=\"dataframe\">\n",
       "  <thead>\n",
       "    <tr style=\"text-align: right;\">\n",
       "      <th></th>\n",
       "      <th>PatientId</th>\n",
       "      <th>AppointmentID</th>\n",
       "      <th>Gender</th>\n",
       "      <th>ScheduledDay</th>\n",
       "      <th>AppointmentDay</th>\n",
       "      <th>Age</th>\n",
       "      <th>Neighbourhood</th>\n",
       "      <th>Scholarship</th>\n",
       "      <th>Hipertension</th>\n",
       "      <th>Diabetes</th>\n",
       "      <th>Alcoholism</th>\n",
       "      <th>Handcap</th>\n",
       "      <th>SMS_received</th>\n",
       "      <th>No-show</th>\n",
       "    </tr>\n",
       "  </thead>\n",
       "  <tbody>\n",
       "    <tr>\n",
       "      <th>0</th>\n",
       "      <td>2.987250e+13</td>\n",
       "      <td>5642903</td>\n",
       "      <td>F</td>\n",
       "      <td>2016-04-29 18:38:08+00:00</td>\n",
       "      <td>2016-04-29 00:00:00+00:00</td>\n",
       "      <td>62</td>\n",
       "      <td>JARDIM DA PENHA</td>\n",
       "      <td>0</td>\n",
       "      <td>1</td>\n",
       "      <td>0</td>\n",
       "      <td>0</td>\n",
       "      <td>0</td>\n",
       "      <td>0</td>\n",
       "      <td>No</td>\n",
       "    </tr>\n",
       "    <tr>\n",
       "      <th>1</th>\n",
       "      <td>5.589978e+14</td>\n",
       "      <td>5642503</td>\n",
       "      <td>M</td>\n",
       "      <td>2016-04-29 16:08:27+00:00</td>\n",
       "      <td>2016-04-29 00:00:00+00:00</td>\n",
       "      <td>56</td>\n",
       "      <td>JARDIM DA PENHA</td>\n",
       "      <td>0</td>\n",
       "      <td>0</td>\n",
       "      <td>0</td>\n",
       "      <td>0</td>\n",
       "      <td>0</td>\n",
       "      <td>0</td>\n",
       "      <td>No</td>\n",
       "    </tr>\n",
       "    <tr>\n",
       "      <th>2</th>\n",
       "      <td>4.262962e+12</td>\n",
       "      <td>5642549</td>\n",
       "      <td>F</td>\n",
       "      <td>2016-04-29 16:19:04+00:00</td>\n",
       "      <td>2016-04-29 00:00:00+00:00</td>\n",
       "      <td>62</td>\n",
       "      <td>MATA DA PRAIA</td>\n",
       "      <td>0</td>\n",
       "      <td>0</td>\n",
       "      <td>0</td>\n",
       "      <td>0</td>\n",
       "      <td>0</td>\n",
       "      <td>0</td>\n",
       "      <td>No</td>\n",
       "    </tr>\n",
       "    <tr>\n",
       "      <th>3</th>\n",
       "      <td>8.679512e+11</td>\n",
       "      <td>5642828</td>\n",
       "      <td>F</td>\n",
       "      <td>2016-04-29 17:29:31+00:00</td>\n",
       "      <td>2016-04-29 00:00:00+00:00</td>\n",
       "      <td>8</td>\n",
       "      <td>PONTAL DE CAMBURI</td>\n",
       "      <td>0</td>\n",
       "      <td>0</td>\n",
       "      <td>0</td>\n",
       "      <td>0</td>\n",
       "      <td>0</td>\n",
       "      <td>0</td>\n",
       "      <td>No</td>\n",
       "    </tr>\n",
       "    <tr>\n",
       "      <th>4</th>\n",
       "      <td>8.841186e+12</td>\n",
       "      <td>5642494</td>\n",
       "      <td>F</td>\n",
       "      <td>2016-04-29 16:07:23+00:00</td>\n",
       "      <td>2016-04-29 00:00:00+00:00</td>\n",
       "      <td>56</td>\n",
       "      <td>JARDIM DA PENHA</td>\n",
       "      <td>0</td>\n",
       "      <td>1</td>\n",
       "      <td>1</td>\n",
       "      <td>0</td>\n",
       "      <td>0</td>\n",
       "      <td>0</td>\n",
       "      <td>No</td>\n",
       "    </tr>\n",
       "  </tbody>\n",
       "</table>\n",
       "</div>"
      ],
      "text/plain": [
       "      PatientId  AppointmentID Gender              ScheduledDay  \\\n",
       "0  2.987250e+13        5642903      F 2016-04-29 18:38:08+00:00   \n",
       "1  5.589978e+14        5642503      M 2016-04-29 16:08:27+00:00   \n",
       "2  4.262962e+12        5642549      F 2016-04-29 16:19:04+00:00   \n",
       "3  8.679512e+11        5642828      F 2016-04-29 17:29:31+00:00   \n",
       "4  8.841186e+12        5642494      F 2016-04-29 16:07:23+00:00   \n",
       "\n",
       "             AppointmentDay  Age      Neighbourhood  Scholarship  \\\n",
       "0 2016-04-29 00:00:00+00:00   62    JARDIM DA PENHA            0   \n",
       "1 2016-04-29 00:00:00+00:00   56    JARDIM DA PENHA            0   \n",
       "2 2016-04-29 00:00:00+00:00   62      MATA DA PRAIA            0   \n",
       "3 2016-04-29 00:00:00+00:00    8  PONTAL DE CAMBURI            0   \n",
       "4 2016-04-29 00:00:00+00:00   56    JARDIM DA PENHA            0   \n",
       "\n",
       "   Hipertension  Diabetes  Alcoholism  Handcap  SMS_received No-show  \n",
       "0             1         0           0        0             0      No  \n",
       "1             0         0           0        0             0      No  \n",
       "2             0         0           0        0             0      No  \n",
       "3             0         0           0        0             0      No  \n",
       "4             1         1           0        0             0      No  "
      ]
     },
     "execution_count": 36,
     "metadata": {},
     "output_type": "execute_result"
    }
   ],
   "source": [
    "df.head()"
   ]
  },
  {
   "cell_type": "code",
   "execution_count": 37,
   "metadata": {},
   "outputs": [
    {
     "data": {
      "text/plain": [
       "22319"
      ]
     },
     "execution_count": 37,
     "metadata": {},
     "output_type": "execute_result"
    }
   ],
   "source": [
    "# we have masked the data with poeple, who did not show up for appointment.\n",
    "no_show=df['No-show']=='Yes'\n",
    "df[no_show].shape[0]"
   ]
  },
  {
   "cell_type": "code",
   "execution_count": 38,
   "metadata": {},
   "outputs": [
    {
     "data": {
      "text/plain": [
       "88207"
      ]
     },
     "execution_count": 38,
     "metadata": {},
     "output_type": "execute_result"
    }
   ],
   "source": [
    "# again we are finding out people, who have shown up for appointment.\n",
    "show=df['No-show']=='No'\n",
    "df[show].shape[0]"
   ]
  },
  {
   "cell_type": "code",
   "execution_count": 39,
   "metadata": {},
   "outputs": [
    {
     "name": "stdout",
     "output_type": "stream",
     "text": [
      "Neighbourhood\n",
      "JARDIM CAMBURI       7717\n",
      "MARIA ORTIZ          5805\n",
      "RESISTÊNCIA          4431\n",
      "JARDIM DA PENHA      3877\n",
      "ITARARÉ              3514\n",
      "CENTRO               3334\n",
      "TABUAZEIRO           3132\n",
      "SANTA MARTHA         3131\n",
      "JESUS DE NAZARETH    2853\n",
      "BONFIM               2773\n",
      "SANTO ANTÔNIO        2746\n",
      "SANTO ANDRÉ          2571\n",
      "CARATOÍRA            2565\n",
      "JABOUR               2509\n",
      "SÃO PEDRO            2448\n",
      "ILHA DO PRÍNCIPE     2266\n",
      "NOVA PALESTINA       2264\n",
      "ANDORINHAS           2262\n",
      "DA PENHA             2217\n",
      "ROMÃO                2214\n",
      "dtype: int64\n"
     ]
    }
   ],
   "source": [
    "# Group the DataFrame by 'Neighbourhood' and count the number of appointments in each neighborhood\n",
    "biggest_neighbourhood = df.groupby('Neighbourhood').size()\n",
    "\n",
    "# Sort the counts in descending order to identify the neighborhoods with the highest number of appointments\n",
    "# and use .head(20) to select the top 20 neighborhoods from this sorted list\n",
    "biggest_size_sorted = biggest_neighbourhood.sort_values(ascending=False).head(20)\n",
    "\n",
    "# Display the sorted list of top 20 neighborhoods with the highest number of appointments\n",
    "print(biggest_size_sorted)\n",
    "\n"
   ]
  },
  {
   "cell_type": "code",
   "execution_count": 40,
   "metadata": {},
   "outputs": [
    {
     "data": {
      "image/png": "[encoded data removed]",
      "text/plain": [
       "<Figure size 1000x800 with 1 Axes>"
      ]
     },
     "metadata": {},
     "output_type": "display_data"
    }
   ],
   "source": [
    "plt.figure(figsize=(10,8))\n",
    "biggest_size_sorted.plot(kind='barh')\n",
    "plt.title('Top 20 Neighbourhoods by size')\n",
    "plt.xlabel('size of the Neighbourhoods')\n",
    "plt.ylabel('Neighbourhoods')\n",
    "plt.tight_layout()  # Adjust layout to fit all labels and title\n",
    "plt.show()\n"
   ]
  },
  {
   "cell_type": "code",
   "execution_count": 41,
   "metadata": {},
   "outputs": [
    {
     "data": {
      "text/plain": [
       "Neighbourhood\n",
       "JARDIM CAMBURI       1465\n",
       "MARIA ORTIZ          1219\n",
       "ITARARÉ               923\n",
       "RESISTÊNCIA           906\n",
       "CENTRO                703\n",
       "JESUS DE NAZARETH     696\n",
       "JARDIM DA PENHA       631\n",
       "CARATOÍRA             591\n",
       "TABUAZEIRO            573\n",
       "BONFIM                550\n",
       "ILHA DO PRÍNCIPE      532\n",
       "ANDORINHAS            521\n",
       "SÃO PEDRO             515\n",
       "SANTO ANDRÉ           508\n",
       "SANTA MARTHA          496\n",
       "SANTO ANTÔNIO         484\n",
       "ROMÃO                 474\n",
       "GURIGICA              456\n",
       "JABOUR                451\n",
       "DA PENHA              429\n",
       "dtype: int64"
      ]
     },
     "execution_count": 41,
     "metadata": {},
     "output_type": "execute_result"
    }
   ],
   "source": [
    "#grouping the data with neighbourhood with no shows.\n",
    "no_show_neighbourhood = df[no_show].groupby('Neighbourhood').size()\n",
    "#sorting the values in descending order\n",
    "top_neighbourhoods = no_show_neighbourhood.sort_values(ascending=False)\n",
    "top_neighbourhoods.head(20)\n"
   ]
  },
  {
   "cell_type": "code",
   "execution_count": 42,
   "metadata": {},
   "outputs": [
    {
     "data": {
      "image/png": "[encoded data removed]",
      "text/plain": [
       "<Figure size 1000x800 with 1 Axes>"
      ]
     },
     "metadata": {},
     "output_type": "display_data"
    }
   ],
   "source": [
    "#grouping the data with neighbourhood with no shows.\n",
    "no_show_neighbourhood = df[no_show].groupby('Neighbourhood').size()\n",
    "\n",
    "# Sort and select top N neighbourhoods for a clearer visualization\n",
    "top_neighbourhoods = no_show_neighbourhood.sort_values(ascending=False).head(20)  # Top 20 as an example\n",
    "\n",
    "# Plotting\n",
    "plt.figure(figsize=(10, 8))  # Adjust the figure size to your display needs\n",
    "top_neighbourhoods.plot(kind='barh')  # 'barh' creates a horizontal bar chart\n",
    "plt.title('Top 20 Neighbourhoods by No-Show Appointment Counts')\n",
    "plt.xlabel('Number of No-Show Appointments')\n",
    "plt.ylabel('Neighbourhood')\n",
    "plt.tight_layout()  # Adjust layout to fit all labels and title\n",
    "plt.show()\n"
   ]
  },
  {
   "cell_type": "code",
   "execution_count": 43,
   "metadata": {},
   "outputs": [
    {
     "name": "stdout",
     "output_type": "stream",
     "text": [
      "Neighbourhood\n",
      "JARDIM CAMBURI       6252\n",
      "MARIA ORTIZ          4586\n",
      "RESISTÊNCIA          3525\n",
      "JARDIM DA PENHA      3246\n",
      "SANTA MARTHA         2635\n",
      "CENTRO               2631\n",
      "ITARARÉ              2591\n",
      "TABUAZEIRO           2559\n",
      "SANTO ANTÔNIO        2262\n",
      "BONFIM               2223\n",
      "JESUS DE NAZARETH    2157\n",
      "SANTO ANDRÉ          2063\n",
      "JABOUR               2058\n",
      "CARATOÍRA            1974\n",
      "SÃO PEDRO            1933\n",
      "NOVA PALESTINA       1862\n",
      "DA PENHA             1788\n",
      "ANDORINHAS           1741\n",
      "ROMÃO                1740\n",
      "ILHA DO PRÍNCIPE     1734\n",
      "dtype: int64\n"
     ]
    }
   ],
   "source": [
    "# Apply the 'show' mask to filter the DataFrame for patients who showed up for their appointments\n",
    "# Then, group the filtered DataFrame by 'Neighbourhood' and count the number of show-up appointments in each neighborhood\n",
    "showup_neighbourhood = df[show].groupby('Neighbourhood').size()\n",
    "\n",
    "# Sort the counts of show-up appointments in descending order to identify the neighborhoods with the highest number of show-ups\n",
    "# Use .head(20) to select the top 20 neighborhoods from this sorted list\n",
    "top_neighbourhood_showup = showup_neighbourhood.sort_values(ascending=False).head(20)\n",
    "\n",
    "# Display the sorted list of top 20 neighborhoods with the highest number of show-up appointments\n",
    "print(top_neighbourhood_showup)\n"
   ]
  },
  {
   "cell_type": "code",
   "execution_count": 44,
   "metadata": {},
   "outputs": [
    {
     "data": {
      "image/png": "[encoded data removed]",
      "text/plain": [
       "<Figure size 1000x800 with 1 Axes>"
      ]
     },
     "metadata": {},
     "output_type": "display_data"
    }
   ],
   "source": [
    "# Plotting\n",
    "plt.figure(figsize=(10, 8))  # Adjust the figure size to your display needs\n",
    "top_neighbourhood_showup.plot(kind='barh')  # 'barh' creates a horizontal bar chart\n",
    "plt.title('Top 20 Neighbourhoods  Show up for Appointment Counts')\n",
    "plt.xlabel('Number of Show up for Appointments')\n",
    "plt.ylabel('Neighbourhood')\n",
    "plt.tight_layout()  # Adjust layout to fit all labels and title\n",
    "plt.show()"
   ]
  },
  {
   "cell_type": "markdown",
   "metadata": {},
   "source": [
    "### Observation of No-Show and Show-Up Trends in Healthcare Appointments by Neighbourhood\n",
    "\n",
    "Upon examining the datasets reflecting healthcare appointment adherence across different neighbourhoods, several trends have been observed which could inform targeted healthcare delivery strategies.\n",
    "\n",
    "In the dataset reflecting the size of the patient population per neighbourhood, 'JARDIM CAMBURI' stands out with the highest number of registered appointments at 7,717, followed by 'MARIA ORTIZ' with 5,805 appointments. These figures suggest that these areas may either have a higher population density or increased access to healthcare facilities, necessitating a deeper analysis into healthcare resource allocation to these zones.\n",
    "\n",
    "Turning our attention to no-show appointments, 'JARDIM CAMBURI' again ranks highest with 1,465 no-shows, which constitutes approximately 19% of its total appointments. 'MARIA ORTIZ' follows with 1,219 no-shows, about 21% of its total appointments. It is notable that 'ITARARÉ' and 'RESISTÊNCIA' show a higher percentage of no-shows relative to their total appointments, at approximately 26% and 20% respectively, indicating a potential area for intervention to improve attendance rates.\n",
    "\n",
    "On the contrary, when examining show-up rates, 'JARDIM CAMBURI' maintains a substantial number of attendees at 6,252, alongside 'MARIA ORTIZ' with 4,586 attendees. These figures underscore a relatively strong engagement with healthcare services within these communities. Noteworthy is the performance of 'SANTA MARTHA', which despite being lower in appointment numbers, displays a high show-up rate with 2,635 out of 3,131 appointments honored, translating to a low no-show rate of around 15.8%.\n",
    "\n",
    "The data prompts several actionable considerations. For neighbourhoods with high no-show rates, investigating underlying causes such as transportation difficulties, economic factors, or appointment reminder system inefficiencies could be beneficial. It also opens the door to explore the efficacy of outreach and education programs tailored to these specific neighbourhoods to enhance appointment compliance.\n",
    "\n",
    "In conclusion, the observed data indicates significant variability in no-show and show-up rates across different neighbourhoods. It is crucial for healthcare providers and policymakers to delve into these disparities, identify the driving factors behind them, and tailor community-specific interventions to enhance healthcare service utilization and optimize resource distribution.\n",
    "\n"
   ]
  },
  {
   "cell_type": "code",
   "execution_count": null,
   "metadata": {},
   "outputs": [],
   "source": []
  },
  {
   "cell_type": "markdown",
   "metadata": {},
   "source": [
    "### Research Question 2 "
   ]
  },
  {
   "cell_type": "markdown",
   "metadata": {
    "collapsed": true
   },
   "source": [
    "### How does the presence of a scholarship impact patient attendance for scheduled appointments?"
   ]
  },
  {
   "cell_type": "code",
   "execution_count": 45,
   "metadata": {},
   "outputs": [
    {
     "data": {
      "text/html": [
       "<div>\n",
       "<style scoped>\n",
       "    .dataframe tbody tr th:only-of-type {\n",
       "        vertical-align: middle;\n",
       "    }\n",
       "\n",
       "    .dataframe tbody tr th {\n",
       "        vertical-align: top;\n",
       "    }\n",
       "\n",
       "    .dataframe thead th {\n",
       "        text-align: right;\n",
       "    }\n",
       "</style>\n",
       "<table border=\"1\" class=\"dataframe\">\n",
       "  <thead>\n",
       "    <tr style=\"text-align: right;\">\n",
       "      <th></th>\n",
       "      <th>PatientId</th>\n",
       "      <th>AppointmentID</th>\n",
       "      <th>Gender</th>\n",
       "      <th>ScheduledDay</th>\n",
       "      <th>AppointmentDay</th>\n",
       "      <th>Age</th>\n",
       "      <th>Neighbourhood</th>\n",
       "      <th>Scholarship</th>\n",
       "      <th>Hipertension</th>\n",
       "      <th>Diabetes</th>\n",
       "      <th>Alcoholism</th>\n",
       "      <th>Handcap</th>\n",
       "      <th>SMS_received</th>\n",
       "      <th>No-show</th>\n",
       "    </tr>\n",
       "  </thead>\n",
       "  <tbody>\n",
       "    <tr>\n",
       "      <th>0</th>\n",
       "      <td>2.987250e+13</td>\n",
       "      <td>5642903</td>\n",
       "      <td>F</td>\n",
       "      <td>2016-04-29 18:38:08+00:00</td>\n",
       "      <td>2016-04-29 00:00:00+00:00</td>\n",
       "      <td>62</td>\n",
       "      <td>JARDIM DA PENHA</td>\n",
       "      <td>0</td>\n",
       "      <td>1</td>\n",
       "      <td>0</td>\n",
       "      <td>0</td>\n",
       "      <td>0</td>\n",
       "      <td>0</td>\n",
       "      <td>No</td>\n",
       "    </tr>\n",
       "    <tr>\n",
       "      <th>1</th>\n",
       "      <td>5.589978e+14</td>\n",
       "      <td>5642503</td>\n",
       "      <td>M</td>\n",
       "      <td>2016-04-29 16:08:27+00:00</td>\n",
       "      <td>2016-04-29 00:00:00+00:00</td>\n",
       "      <td>56</td>\n",
       "      <td>JARDIM DA PENHA</td>\n",
       "      <td>0</td>\n",
       "      <td>0</td>\n",
       "      <td>0</td>\n",
       "      <td>0</td>\n",
       "      <td>0</td>\n",
       "      <td>0</td>\n",
       "      <td>No</td>\n",
       "    </tr>\n",
       "    <tr>\n",
       "      <th>2</th>\n",
       "      <td>4.262962e+12</td>\n",
       "      <td>5642549</td>\n",
       "      <td>F</td>\n",
       "      <td>2016-04-29 16:19:04+00:00</td>\n",
       "      <td>2016-04-29 00:00:00+00:00</td>\n",
       "      <td>62</td>\n",
       "      <td>MATA DA PRAIA</td>\n",
       "      <td>0</td>\n",
       "      <td>0</td>\n",
       "      <td>0</td>\n",
       "      <td>0</td>\n",
       "      <td>0</td>\n",
       "      <td>0</td>\n",
       "      <td>No</td>\n",
       "    </tr>\n",
       "    <tr>\n",
       "      <th>3</th>\n",
       "      <td>8.679512e+11</td>\n",
       "      <td>5642828</td>\n",
       "      <td>F</td>\n",
       "      <td>2016-04-29 17:29:31+00:00</td>\n",
       "      <td>2016-04-29 00:00:00+00:00</td>\n",
       "      <td>8</td>\n",
       "      <td>PONTAL DE CAMBURI</td>\n",
       "      <td>0</td>\n",
       "      <td>0</td>\n",
       "      <td>0</td>\n",
       "      <td>0</td>\n",
       "      <td>0</td>\n",
       "      <td>0</td>\n",
       "      <td>No</td>\n",
       "    </tr>\n",
       "    <tr>\n",
       "      <th>4</th>\n",
       "      <td>8.841186e+12</td>\n",
       "      <td>5642494</td>\n",
       "      <td>F</td>\n",
       "      <td>2016-04-29 16:07:23+00:00</td>\n",
       "      <td>2016-04-29 00:00:00+00:00</td>\n",
       "      <td>56</td>\n",
       "      <td>JARDIM DA PENHA</td>\n",
       "      <td>0</td>\n",
       "      <td>1</td>\n",
       "      <td>1</td>\n",
       "      <td>0</td>\n",
       "      <td>0</td>\n",
       "      <td>0</td>\n",
       "      <td>No</td>\n",
       "    </tr>\n",
       "  </tbody>\n",
       "</table>\n",
       "</div>"
      ],
      "text/plain": [
       "      PatientId  AppointmentID Gender              ScheduledDay  \\\n",
       "0  2.987250e+13        5642903      F 2016-04-29 18:38:08+00:00   \n",
       "1  5.589978e+14        5642503      M 2016-04-29 16:08:27+00:00   \n",
       "2  4.262962e+12        5642549      F 2016-04-29 16:19:04+00:00   \n",
       "3  8.679512e+11        5642828      F 2016-04-29 17:29:31+00:00   \n",
       "4  8.841186e+12        5642494      F 2016-04-29 16:07:23+00:00   \n",
       "\n",
       "             AppointmentDay  Age      Neighbourhood  Scholarship  \\\n",
       "0 2016-04-29 00:00:00+00:00   62    JARDIM DA PENHA            0   \n",
       "1 2016-04-29 00:00:00+00:00   56    JARDIM DA PENHA            0   \n",
       "2 2016-04-29 00:00:00+00:00   62      MATA DA PRAIA            0   \n",
       "3 2016-04-29 00:00:00+00:00    8  PONTAL DE CAMBURI            0   \n",
       "4 2016-04-29 00:00:00+00:00   56    JARDIM DA PENHA            0   \n",
       "\n",
       "   Hipertension  Diabetes  Alcoholism  Handcap  SMS_received No-show  \n",
       "0             1         0           0        0             0      No  \n",
       "1             0         0           0        0             0      No  \n",
       "2             0         0           0        0             0      No  \n",
       "3             0         0           0        0             0      No  \n",
       "4             1         1           0        0             0      No  "
      ]
     },
     "execution_count": 45,
     "metadata": {},
     "output_type": "execute_result"
    }
   ],
   "source": [
    "df.head()"
   ]
  },
  {
   "cell_type": "code",
   "execution_count": 46,
   "metadata": {},
   "outputs": [],
   "source": [
    "# Create a boolean mask for people with a scholarship\n",
    "has_scholarship = df['Scholarship'] == 1\n",
    "\n",
    "# Assuming 'No-show' == 'Yes' means they did not show up, create a mask for no-shows\n",
    "no_show = df['No-show'] == 'Yes'\n",
    "\n",
    "# Apply both masks to the DataFrame to filter for people with a scholarship who did not show up\n",
    "people_with_scholarship_no_show = df[has_scholarship & no_show]\n",
    "\n",
    "# Count the number of people who meet both criteria\n",
    "number_of_people_with_scholarship_no_show = people_with_scholarship_no_show.shape[0]\n",
    "\n",
    "# Now, number_of_people_with_scholarship_no_show holds the count of people who have a scholarship and did not show up\n"
   ]
  },
  {
   "cell_type": "code",
   "execution_count": 47,
   "metadata": {},
   "outputs": [
    {
     "data": {
      "text/plain": [
       "2578"
      ]
     },
     "execution_count": 47,
     "metadata": {},
     "output_type": "execute_result"
    }
   ],
   "source": [
    "number_of_people_with_scholarship_no_show"
   ]
  },
  {
   "cell_type": "code",
   "execution_count": 48,
   "metadata": {},
   "outputs": [],
   "source": [
    "# Create a boolean mask for people with no scholarship\n",
    "no_scholarship = df['Scholarship'] == 0\n",
    "\n",
    "# Assuming 'No-show' == 'Yes' means they did not show up, create a mask for no-shows\n",
    "no_show = df['No-show'] == 'Yes'\n",
    "\n",
    "# Apply both masks to the DataFrame to filter for people with a no scholarship who did not show up\n",
    "people_no_scholarship_no_show = df[no_scholarship & no_show]\n",
    "\n",
    "# Count the number of people who meet both criteria\n",
    "number_of_people_no_scholarship_no_show = people_no_scholarship_no_show.shape[0]\n",
    "\n",
    "# Now, number_of_people_with_scholarship_no_show holds the count of people who have no scholarship and did not show up\n"
   ]
  },
  {
   "cell_type": "code",
   "execution_count": 49,
   "metadata": {},
   "outputs": [
    {
     "data": {
      "text/plain": [
       "19741"
      ]
     },
     "execution_count": 49,
     "metadata": {},
     "output_type": "execute_result"
    }
   ],
   "source": [
    "number_of_people_no_scholarship_no_show"
   ]
  },
  {
   "cell_type": "code",
   "execution_count": 50,
   "metadata": {},
   "outputs": [],
   "source": [
    "\n",
    "# Create a boolean mask for people with no scholarship\n",
    "no_scholarship = df['Scholarship'] == 0\n",
    "\n",
    "# Assuming 'No-show' == 'Yes' means they did not show up, create a mask for no-shows\n",
    "show = df['No-show'] == 'No'\n",
    "\n",
    "# Apply both masks to the DataFrame to filter for people with no scholarship who did  show up\n",
    "people_no_scholarship_show = df[no_scholarship & show]\n",
    "\n",
    "# Count the number of people who meet both criteria\n",
    "number_of_people_no_scholarship_show = people_no_scholarship_show.shape[0]\n",
    "\n",
    "# Now, number_of_people_with_scholarship_no_show holds the count of people who have no scholarship and did  show up\n"
   ]
  },
  {
   "cell_type": "code",
   "execution_count": 51,
   "metadata": {},
   "outputs": [
    {
     "data": {
      "text/plain": [
       "79924"
      ]
     },
     "execution_count": 51,
     "metadata": {},
     "output_type": "execute_result"
    }
   ],
   "source": [
    "number_of_people_no_scholarship_show"
   ]
  },
  {
   "cell_type": "code",
   "execution_count": 52,
   "metadata": {},
   "outputs": [],
   "source": [
    "\n",
    "# Create a boolean mask for people with a scholarship\n",
    "has_scholarship = df['Scholarship'] == 1\n",
    "\n",
    "# Assuming 'No-show' == 'Yes' means they did not show up, create a mask for shows\n",
    "show = df['No-show'] == 'No'\n",
    "\n",
    "# Apply both masks to the DataFrame to filter for people with a scholarship who did  show up\n",
    "people_has_scholarship_show = df[has_scholarship & show]\n",
    "\n",
    "# Count the number of people who meet both criteria\n",
    "number_of_people_has_scholarship_show = people_has_scholarship_show.shape[0]\n",
    "\n",
    "# Now, number_of_people_with_scholarship_no_show holds the count of people who have a scholarship and did  show up\n"
   ]
  },
  {
   "cell_type": "code",
   "execution_count": 53,
   "metadata": {},
   "outputs": [
    {
     "data": {
      "text/plain": [
       "8283"
      ]
     },
     "execution_count": 53,
     "metadata": {},
     "output_type": "execute_result"
    }
   ],
   "source": [
    "number_of_people_has_scholarship_show"
   ]
  },
  {
   "cell_type": "code",
   "execution_count": 54,
   "metadata": {
    "scrolled": true
   },
   "outputs": [
    {
     "data": {
      "image/png": "[encoded data removed]",
      "text/plain": [
       "<Figure size 1000x600 with 1 Axes>"
      ]
     },
     "metadata": {},
     "output_type": "display_data"
    }
   ],
   "source": [
    "\n",
    "\n",
    "categories = ['Scholarship No-show', 'No Scholarship No-show', 'No Scholarship Show', 'Scholarship Show']\n",
    "values = [number_of_people_with_scholarship_no_show, number_of_people_no_scholarship_no_show, number_of_people_no_scholarship_show, number_of_people_has_scholarship_show]\n",
    "\n",
    "colors = ['#1f77b4', '#1f77b4', '#2ca02c', '#2ca02c']  # Example colors in hex format\n",
    "\n",
    "plt.figure(figsize=(10, 6))\n",
    "bars = plt.bar(categories, values, color=colors)\n",
    "plt.title('Attendance vs Scholarship Status')\n",
    "plt.xlabel('Category')\n",
    "plt.ylabel('Number of People')\n",
    "\n",
    "# Adding data labels\n",
    "for bar in bars:\n",
    "    yval = bar.get_height()\n",
    "    plt.text(bar.get_x() + bar.get_width()/2, yval + 0.5, yval, ha='center', va='bottom')\n",
    "\n",
    "plt.xticks(rotation=45)  # Rotates the x-axis labels to make them more readable\n",
    "plt.show()\n"
   ]
  },
  {
   "cell_type": "markdown",
   "metadata": {},
   "source": [
    "### Attendance vs Scholarship Status\n",
    "From these numbers, we can infer:\n",
    "\n",
    "Higher Show Rates for Both Groups: Both groups, those with scholarships and those without, have higher rates of showing up than not showing up. This is evident from the numbers: 79,924 showed up without scholarships versus 19,741 who did not; 8,283 showed up with scholarships versus 2,578 who did not.\n",
    "\n",
    "No Scholarship Group is Larger: The group without scholarships is significantly larger than the group with scholarships. This is noticeable both in the show and no-show categories. The no-scholarship group has a total of 99,665 people (19,741 no-shows and 79,924 shows) compared to the scholarship group's total of 10,861 people (2,578 no-shows and 8,283 shows).\n",
    "\n",
    "\n",
    "### Conclusion: \n",
    "People without scholarships have a slightly higher rate of attending their appointments compared to those with scholarships. However, both groups have a reasonably high attendance rate, above 75%. The large difference in total numbers between the groups indicates that the scholarship program might be selective or available to a smaller portion of the population."
   ]
  },
  {
   "cell_type": "markdown",
   "metadata": {},
   "source": [
    "## Research Question 3\n",
    "### How does the presence of hypertension affect appointment attendance behavior in patients?"
   ]
  },
  {
   "cell_type": "code",
   "execution_count": 55,
   "metadata": {},
   "outputs": [
    {
     "data": {
      "text/html": [
       "<div>\n",
       "<style scoped>\n",
       "    .dataframe tbody tr th:only-of-type {\n",
       "        vertical-align: middle;\n",
       "    }\n",
       "\n",
       "    .dataframe tbody tr th {\n",
       "        vertical-align: top;\n",
       "    }\n",
       "\n",
       "    .dataframe thead th {\n",
       "        text-align: right;\n",
       "    }\n",
       "</style>\n",
       "<table border=\"1\" class=\"dataframe\">\n",
       "  <thead>\n",
       "    <tr style=\"text-align: right;\">\n",
       "      <th></th>\n",
       "      <th>PatientId</th>\n",
       "      <th>AppointmentID</th>\n",
       "      <th>Gender</th>\n",
       "      <th>ScheduledDay</th>\n",
       "      <th>AppointmentDay</th>\n",
       "      <th>Age</th>\n",
       "      <th>Neighbourhood</th>\n",
       "      <th>Scholarship</th>\n",
       "      <th>Hipertension</th>\n",
       "      <th>Diabetes</th>\n",
       "      <th>Alcoholism</th>\n",
       "      <th>Handcap</th>\n",
       "      <th>SMS_received</th>\n",
       "      <th>No-show</th>\n",
       "    </tr>\n",
       "  </thead>\n",
       "  <tbody>\n",
       "    <tr>\n",
       "      <th>0</th>\n",
       "      <td>2.987250e+13</td>\n",
       "      <td>5642903</td>\n",
       "      <td>F</td>\n",
       "      <td>2016-04-29 18:38:08+00:00</td>\n",
       "      <td>2016-04-29 00:00:00+00:00</td>\n",
       "      <td>62</td>\n",
       "      <td>JARDIM DA PENHA</td>\n",
       "      <td>0</td>\n",
       "      <td>1</td>\n",
       "      <td>0</td>\n",
       "      <td>0</td>\n",
       "      <td>0</td>\n",
       "      <td>0</td>\n",
       "      <td>No</td>\n",
       "    </tr>\n",
       "    <tr>\n",
       "      <th>1</th>\n",
       "      <td>5.589978e+14</td>\n",
       "      <td>5642503</td>\n",
       "      <td>M</td>\n",
       "      <td>2016-04-29 16:08:27+00:00</td>\n",
       "      <td>2016-04-29 00:00:00+00:00</td>\n",
       "      <td>56</td>\n",
       "      <td>JARDIM DA PENHA</td>\n",
       "      <td>0</td>\n",
       "      <td>0</td>\n",
       "      <td>0</td>\n",
       "      <td>0</td>\n",
       "      <td>0</td>\n",
       "      <td>0</td>\n",
       "      <td>No</td>\n",
       "    </tr>\n",
       "    <tr>\n",
       "      <th>2</th>\n",
       "      <td>4.262962e+12</td>\n",
       "      <td>5642549</td>\n",
       "      <td>F</td>\n",
       "      <td>2016-04-29 16:19:04+00:00</td>\n",
       "      <td>2016-04-29 00:00:00+00:00</td>\n",
       "      <td>62</td>\n",
       "      <td>MATA DA PRAIA</td>\n",
       "      <td>0</td>\n",
       "      <td>0</td>\n",
       "      <td>0</td>\n",
       "      <td>0</td>\n",
       "      <td>0</td>\n",
       "      <td>0</td>\n",
       "      <td>No</td>\n",
       "    </tr>\n",
       "    <tr>\n",
       "      <th>3</th>\n",
       "      <td>8.679512e+11</td>\n",
       "      <td>5642828</td>\n",
       "      <td>F</td>\n",
       "      <td>2016-04-29 17:29:31+00:00</td>\n",
       "      <td>2016-04-29 00:00:00+00:00</td>\n",
       "      <td>8</td>\n",
       "      <td>PONTAL DE CAMBURI</td>\n",
       "      <td>0</td>\n",
       "      <td>0</td>\n",
       "      <td>0</td>\n",
       "      <td>0</td>\n",
       "      <td>0</td>\n",
       "      <td>0</td>\n",
       "      <td>No</td>\n",
       "    </tr>\n",
       "    <tr>\n",
       "      <th>4</th>\n",
       "      <td>8.841186e+12</td>\n",
       "      <td>5642494</td>\n",
       "      <td>F</td>\n",
       "      <td>2016-04-29 16:07:23+00:00</td>\n",
       "      <td>2016-04-29 00:00:00+00:00</td>\n",
       "      <td>56</td>\n",
       "      <td>JARDIM DA PENHA</td>\n",
       "      <td>0</td>\n",
       "      <td>1</td>\n",
       "      <td>1</td>\n",
       "      <td>0</td>\n",
       "      <td>0</td>\n",
       "      <td>0</td>\n",
       "      <td>No</td>\n",
       "    </tr>\n",
       "  </tbody>\n",
       "</table>\n",
       "</div>"
      ],
      "text/plain": [
       "      PatientId  AppointmentID Gender              ScheduledDay  \\\n",
       "0  2.987250e+13        5642903      F 2016-04-29 18:38:08+00:00   \n",
       "1  5.589978e+14        5642503      M 2016-04-29 16:08:27+00:00   \n",
       "2  4.262962e+12        5642549      F 2016-04-29 16:19:04+00:00   \n",
       "3  8.679512e+11        5642828      F 2016-04-29 17:29:31+00:00   \n",
       "4  8.841186e+12        5642494      F 2016-04-29 16:07:23+00:00   \n",
       "\n",
       "             AppointmentDay  Age      Neighbourhood  Scholarship  \\\n",
       "0 2016-04-29 00:00:00+00:00   62    JARDIM DA PENHA            0   \n",
       "1 2016-04-29 00:00:00+00:00   56    JARDIM DA PENHA            0   \n",
       "2 2016-04-29 00:00:00+00:00   62      MATA DA PRAIA            0   \n",
       "3 2016-04-29 00:00:00+00:00    8  PONTAL DE CAMBURI            0   \n",
       "4 2016-04-29 00:00:00+00:00   56    JARDIM DA PENHA            0   \n",
       "\n",
       "   Hipertension  Diabetes  Alcoholism  Handcap  SMS_received No-show  \n",
       "0             1         0           0        0             0      No  \n",
       "1             0         0           0        0             0      No  \n",
       "2             0         0           0        0             0      No  \n",
       "3             0         0           0        0             0      No  \n",
       "4             1         1           0        0             0      No  "
      ]
     },
     "execution_count": 55,
     "metadata": {},
     "output_type": "execute_result"
    }
   ],
   "source": [
    "df.head()"
   ]
  },
  {
   "cell_type": "code",
   "execution_count": 56,
   "metadata": {},
   "outputs": [
    {
     "name": "stdout",
     "output_type": "stream",
     "text": [
      "Total number of patients who showed up: 88207\n"
     ]
    }
   ],
   "source": [
    "# Define a mask to filter patients who showed up for their appointments\n",
    "show = df['No-show'] == \"No\"  # 'No' in the 'No-show' column means the patient showed up\n",
    "\n",
    "# Apply the mask to the DataFrame to filter only the rows where patients showed up\n",
    "# and then use .shape[0] to get the count of these rows\n",
    "total_showed_up = df[show].shape[0]\n",
    "\n",
    "# Print the total number of patients who showed up for their appointments\n",
    "print(f\"Total number of patients who showed up: {total_showed_up}\")\n"
   ]
  },
  {
   "cell_type": "code",
   "execution_count": 57,
   "metadata": {},
   "outputs": [
    {
     "name": "stdout",
     "output_type": "stream",
     "text": [
      "Total number of patients who did not show up: 22319\n"
     ]
    }
   ],
   "source": [
    "# Define a mask to filter patients who did not show up for their appointments\n",
    "no_show = df['No-show'] == \"Yes\"  # 'Yes' in the 'No-show' column means the patient did not show up\n",
    "\n",
    "# Apply the mask to the DataFrame to filter only the rows where patients did not show up\n",
    "# and then use .shape[0] to get the count of these rows\n",
    "total_no_show = df[no_show].shape[0]\n",
    "\n",
    "# Print the total number of patients who did not show up for their appointments\n",
    "print(f\"Total number of patients who did not show up: {total_no_show}\")\n"
   ]
  },
  {
   "cell_type": "code",
   "execution_count": 58,
   "metadata": {},
   "outputs": [
    {
     "name": "stdout",
     "output_type": "stream",
     "text": [
      "Total number of patients with hypertension: 21801\n"
     ]
    }
   ],
   "source": [
    "# Define a mask to filter patients who have hypertension\n",
    "have_hipertension = df.Hipertension == 1  # '1' indicates the patient has hypertension\n",
    "\n",
    "# Apply the mask to the DataFrame to select only the rows where patients have hypertension\n",
    "# and then use .shape[0] to get the count of these rows\n",
    "total_have_hipertension = df[have_hipertension].shape[0]\n",
    "\n",
    "# Print the total number of patients who have hypertension\n",
    "print(f\"Total number of patients with hypertension: {total_have_hipertension}\")\n"
   ]
  },
  {
   "cell_type": "code",
   "execution_count": 59,
   "metadata": {},
   "outputs": [
    {
     "name": "stdout",
     "output_type": "stream",
     "text": [
      "Total number of patients without hypertension: 88725\n"
     ]
    }
   ],
   "source": [
    "# Define a mask to filter patients who do not have hypertension\n",
    "no_hipertension = df['Hipertension'] == 0  # '0' indicates the patient does not have hypertension\n",
    "\n",
    "# Apply the mask to the DataFrame to select only the rows where patients do not have hypertension\n",
    "# and then use .shape[0] to get the count of these rows\n",
    "total_no_hipertension = df[no_hipertension].shape[0]\n",
    "\n",
    "# Print the total number of patients who do not have hypertension\n",
    "print(f\"Total number of patients without hypertension: {total_no_hipertension}\")\n"
   ]
  },
  {
   "cell_type": "code",
   "execution_count": 60,
   "metadata": {},
   "outputs": [
    {
     "name": "stdout",
     "output_type": "stream",
     "text": [
      "Total number of patients with hypertension who showed up: 18029\n"
     ]
    }
   ],
   "source": [
    "# Ensure that conditions are wrapped in parentheses when combining them with '&'\n",
    "# Define a mask for patients who showed up for their appointment\n",
    "show = df['No-show'] == \"No\"  # 'No' means the patient showed up\n",
    "\n",
    "# Define a mask for patients who have hypertension\n",
    "have_hipertension = df['Hipertension'] == 1  # '1' indicates the patient has hypertension\n",
    "\n",
    "# Combine the two masks to filter patients who have hypertension and showed up for their appointment\n",
    "# Use '&' for a bitwise 'and' operation, ensuring each condition is enclosed in parentheses\n",
    "hipertension_show_up = df[show & have_hipertension]\n",
    "\n",
    "# Get the count of patients who have hypertension and showed up by accessing the shape attribute for the number of rows\n",
    "total_hipertension_show_up = hipertension_show_up.shape[0]\n",
    "\n",
    "# Print the total number of patients with hypertension who showed up for their appointments\n",
    "print(f\"Total number of patients with hypertension who showed up: {total_hipertension_show_up}\")\n",
    "\n"
   ]
  },
  {
   "cell_type": "code",
   "execution_count": 61,
   "metadata": {},
   "outputs": [
    {
     "name": "stdout",
     "output_type": "stream",
     "text": [
      "Total number of patients without hypertension who showed up: 70178\n"
     ]
    }
   ],
   "source": [
    "# Define a mask for patients who showed up for their appointment\n",
    "show = df['No-show'] == \"No\"  # 'No' in the 'No-show' column means the patient showed up\n",
    "\n",
    "# Define a mask for patients who do not have hypertension\n",
    "no_hipertension = df['Hipertension'] == 0  # '0' indicates the patient does not have hypertension\n",
    "\n",
    "# Combine the two masks using a bitwise AND ('&') operation to filter patients\n",
    "# who do not have hypertension and also showed up for their appointments.\n",
    "# Each condition (mask) is enclosed in parentheses to ensure proper evaluation.\n",
    "no_hipertension_show_up = df[show & no_hipertension]\n",
    "\n",
    "# Calculate the number of patients who meet the criteria (do not have hypertension and showed up)\n",
    "# by accessing the shape attribute for the number of rows in the filtered DataFrame\n",
    "total_no_hipertension_show_up = no_hipertension_show_up.shape[0]\n",
    "\n",
    "# Print the total number of patients without hypertension who showed up for their appointments\n",
    "print(f\"Total number of patients without hypertension who showed up: {total_no_hipertension_show_up}\")\n",
    "\n"
   ]
  },
  {
   "cell_type": "code",
   "execution_count": 62,
   "metadata": {},
   "outputs": [
    {
     "name": "stdout",
     "output_type": "stream",
     "text": [
      "Total number of patients with hypertension who did not show up: 3772\n"
     ]
    }
   ],
   "source": [
    "# Define a mask for patients who did not show up for their appointment\n",
    "no_show = df['No-show'] == \"Yes\"  # 'Yes' in the 'No-show' column means the patient did not show up\n",
    "\n",
    "# Define a mask for patients who have hypertension\n",
    "have_hipertension = df['Hipertension'] == 1  # '1' indicates the patient has hypertension\n",
    "\n",
    "# Combine the two masks using a bitwise AND ('&') operation to filter patients\n",
    "# who have hypertension and also did not show up for their appointments.\n",
    "# It's important to enclose each condition (mask) in parentheses to ensure proper evaluation.\n",
    "hipertension_no_show = df[no_show & have_hipertension]\n",
    "\n",
    "# Calculate the number of patients who meet the criteria (have hypertension and did not show up)\n",
    "# by accessing the shape attribute for the number of rows in the filtered DataFrame\n",
    "total_hipertension_no_show = hipertension_no_show.shape[0]\n",
    "\n",
    "# Print the total number of patients with hypertension who did not show up for their appointments\n",
    "print(f\"Total number of patients with hypertension who did not show up: {total_hipertension_no_show}\")\n"
   ]
  },
  {
   "cell_type": "code",
   "execution_count": 63,
   "metadata": {},
   "outputs": [
    {
     "name": "stdout",
     "output_type": "stream",
     "text": [
      "Total number of patients without hypertension who did not show up: 18547\n"
     ]
    }
   ],
   "source": [
    "# Define a mask for patients who did not show up for their appointment\n",
    "no_show = df['No-show'] == \"Yes\"  # 'Yes' in the 'No-show' column means the patient did not show up\n",
    "\n",
    "# Define a mask for patients who do not have hypertension\n",
    "no_hipertension = df['Hipertension'] == 0  # '0' indicates the patient does not have hypertension\n",
    "\n",
    "# Combine the two masks using a bitwise AND ('&') operation to filter patients\n",
    "# who do not have hypertension and also did not show up for their appointments.\n",
    "# Each condition (mask) is enclosed in parentheses to ensure proper evaluation.\n",
    "no_hipertension_no_show = df[no_show & no_hipertension]\n",
    "\n",
    "# Calculate the number of patients who meet the criteria (do not have hypertension and did not show up)\n",
    "# by accessing the shape attribute for the number of rows in the filtered DataFrame\n",
    "total_no_hipertension_no_show = no_hipertension_no_show.shape[0]\n",
    "\n",
    "# Print the total number of patients without hypertension who did not show up for their appointments\n",
    "print(f\"Total number of patients without hypertension who did not show up: {total_no_hipertension_no_show}\")\n"
   ]
  },
  {
   "cell_type": "code",
   "execution_count": 64,
   "metadata": {},
   "outputs": [
    {
     "data": {
      "image/png": "[encoded data removed]",
      "text/plain": [
       "<Figure size 1000x600 with 1 Axes>"
      ]
     },
     "metadata": {},
     "output_type": "display_data"
    }
   ],
   "source": [
    "\n",
    "\n",
    "# Sample data for the number of patients in each category\n",
    "total_hipertension_show_up = 8283\n",
    "total_hipertension_no_show = 2578\n",
    "total_no_hipertension_show_up = 79924\n",
    "total_no_hipertension_no_show = 19741\n",
    "\n",
    "# Categories for the bar graph\n",
    "categories = ['Hypertension Show Up', 'Hypertension No Show', 'No Hypertension Show Up', 'No Hypertension No Show']\n",
    "\n",
    "# Values corresponding to each category\n",
    "values = [total_hipertension_show_up, total_hipertension_no_show, total_no_hipertension_show_up, total_no_hipertension_no_show]\n",
    "\n",
    "# Creating the bar graph\n",
    "plt.figure(figsize=(10, 6))\n",
    "bars = plt.bar(categories, values, color=['#1f77b4', '#1f77b4', '#2ca02c', '#2ca02c'])\n",
    "\n",
    "# Adding title and labels\n",
    "plt.title('Appointment Attendance Based on Hypertension Status')\n",
    "plt.xlabel('Category')\n",
    "plt.ylabel('Number of Patients')\n",
    "\n",
    "# Rotating the x-axis labels for better readability\n",
    "plt.xticks(rotation=45)\n",
    "\n",
    "# Adding value labels on top of each bar\n",
    "for bar in bars:\n",
    "    yval = bar.get_height()\n",
    "    plt.text(bar.get_x() + bar.get_width()/2, yval, int(yval), ha='center', va='bottom')\n",
    "\n",
    "# Display the bar graph\n",
    "plt.tight_layout()\n",
    "plt.show()\n"
   ]
  },
  {
   "cell_type": "markdown",
   "metadata": {},
   "source": [
    "The bar graph visualizing appointment attendance based on hypertension status reveals several key findings:\n",
    "\n",
    "### Higher Attendance Among Patients Without Hypertension:\n",
    "The largest group of patients who showed up for their appointments does not have hypertension (79,924 patients), indicating that within this dataset, patients without hypertension are more likely to attend their appointments compared to those with hypertension.\n",
    "\n",
    "### Lower No-Show Rates for Patients Without Hypertension:\n",
    "Similarly, the number of no-shows is higher among patients without hypertension (19,741) compared to those with hypertension (2,578), but this needs to be interpreted in the context of the total number of patients in each group. The absolute numbers suggest that, overall, patients without hypertension both show up and do not show up in greater numbers, likely reflecting a larger population of patients without hypertension.\n",
    "\n",
    "### Significant Attendance Among Patients With Hypertension:\n",
    "There's a substantial number of patients with hypertension who attended their appointments (8,283). This indicates that while patients with hypertension may face more health challenges, a significant number still manage to attend their healthcare appointments.\n",
    "\n",
    "### Comparatively Lower No-Show Among Patients With Hypertension:\n",
    "The number of patients with hypertension who did not show up for their appointments (2,578) is the smallest group. This could suggest that patients with hypertension, who likely have more pressing healthcare needs, may have a higher awareness or commitment to attending their appointments compared to no-shows in other categories.\n",
    "\n",
    "### Overall Insights:\n",
    "\n",
    "The data suggests that while patients without hypertension make up the bulk of both show and no-show appointments, a significant portion of patients with hypertension diligently attend their appointments.\n",
    "The proportion of no-shows to shows within the hypertension group versus the non-hypertension group might offer insights into different health behavior patterns, possibly driven by the seriousness of their health conditions or the level of healthcare engagement.\n",
    "These findings could be used to tailor appointment reminder systems, support services, or interventions aimed at increasing appointment attendance rates, especially for patients with chronic conditions like hypertension.\n",
    "It's important to consider these findings in the context of the overall population and healthcare engagement strategies. Further analysis could delve into the reasons behind no-shows and explore other factors such as age, gender, socioeconomic status, and distance from healthcare facilities to gain a more nuanced understanding of appointment attendance behaviors.\n",
    "\n",
    "\n",
    "\n",
    "\n",
    "\n"
   ]
  },
  {
   "cell_type": "code",
   "execution_count": null,
   "metadata": {},
   "outputs": [],
   "source": []
  },
  {
   "cell_type": "markdown",
   "metadata": {},
   "source": [
    "<a id='conclusions'></a>\n",
    "## Conclusions\n",
    "\n",
    "The exploratory analysis provided insights into how certain factors, like the presence of hypertension, might influence patient attendance at healthcare appointments. However, without detailed statistical analysis and consideration of a broader range of influencing factors, the findings remain observational. Future analyses could benefit from a more comprehensive approach, incorporating multivariate analysis and statistical testing, to draw more robust conclusions about what influences patient appointment attendance behavior.\n",
    "\n"
   ]
  },
  {
   "cell_type": "code",
   "execution_count": null,
   "metadata": {},
   "outputs": [],
   "source": []
  }
 ],
 "metadata": {
  "kernelspec": {
   "display_name": "Python 3 (ipykernel)",
   "language": "python",
   "name": "python3"
  },
  "language_info": {
   "codemirror_mode": {
    "name": "ipython",
    "version": 3
   },
   "file_extension": ".py",
   "mimetype": "text/x-python",
   "name": "python",
   "nbconvert_exporter": "python",
   "pygments_lexer": "ipython3",
   "version": "3.8.18"
  }
 },
 "nbformat": 4,
 "nbformat_minor": 2
}
